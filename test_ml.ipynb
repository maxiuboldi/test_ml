{
  "nbformat": 4,
  "nbformat_minor": 0,
  "metadata": {
    "colab": {
      "name": "test_ml.ipynb",
      "provenance": [],
      "collapsed_sections": [],
      "authorship_tag": "ABX9TyOqYPZgq+W9q96EGsikOeXm",
      "include_colab_link": true
    },
    "kernelspec": {
      "name": "python3",
      "display_name": "Python 3"
    },
    "language_info": {
      "name": "python"
    },
    "widgets": {
      "application/vnd.jupyter.widget-state+json": {
        "a3dd379202ee4204ba5ea531beb67b6c": {
          "model_module": "@jupyter-widgets/controls",
          "model_name": "HBoxModel",
          "model_module_version": "1.5.0",
          "state": {
            "_view_name": "HBoxView",
            "_dom_classes": [],
            "_model_name": "HBoxModel",
            "_view_module": "@jupyter-widgets/controls",
            "_model_module_version": "1.5.0",
            "_view_count": null,
            "_view_module_version": "1.5.0",
            "box_style": "",
            "layout": "IPY_MODEL_a2cd41b3801548ba959f65866822b0d2",
            "_model_module": "@jupyter-widgets/controls",
            "children": [
              "IPY_MODEL_ea546034b9304feea782e940c1d9d170",
              "IPY_MODEL_5fa67353a71843d3b6637d2a391f065e",
              "IPY_MODEL_13813bd835ee46fcb0792cf05d931426"
            ]
          }
        },
        "a2cd41b3801548ba959f65866822b0d2": {
          "model_module": "@jupyter-widgets/base",
          "model_name": "LayoutModel",
          "model_module_version": "1.2.0",
          "state": {
            "_view_name": "LayoutView",
            "grid_template_rows": null,
            "right": null,
            "justify_content": null,
            "_view_module": "@jupyter-widgets/base",
            "overflow": null,
            "_model_module_version": "1.2.0",
            "_view_count": null,
            "flex_flow": null,
            "width": null,
            "min_width": null,
            "border": null,
            "align_items": null,
            "bottom": null,
            "_model_module": "@jupyter-widgets/base",
            "top": null,
            "grid_column": null,
            "overflow_y": null,
            "overflow_x": null,
            "grid_auto_flow": null,
            "grid_area": null,
            "grid_template_columns": null,
            "flex": null,
            "_model_name": "LayoutModel",
            "justify_items": null,
            "grid_row": null,
            "max_height": null,
            "align_content": null,
            "visibility": null,
            "align_self": null,
            "height": null,
            "min_height": null,
            "padding": null,
            "grid_auto_rows": null,
            "grid_gap": null,
            "max_width": null,
            "order": null,
            "_view_module_version": "1.2.0",
            "grid_template_areas": null,
            "object_position": null,
            "object_fit": null,
            "grid_auto_columns": null,
            "margin": null,
            "display": null,
            "left": null
          }
        },
        "ea546034b9304feea782e940c1d9d170": {
          "model_module": "@jupyter-widgets/controls",
          "model_name": "HTMLModel",
          "model_module_version": "1.5.0",
          "state": {
            "_view_name": "HTMLView",
            "style": "IPY_MODEL_505705fffc1842a588f505a9fc6b5512",
            "_dom_classes": [],
            "description": "",
            "_model_name": "HTMLModel",
            "placeholder": "​",
            "_view_module": "@jupyter-widgets/controls",
            "_model_module_version": "1.5.0",
            "value": "Preprocesando textos: 100%",
            "_view_count": null,
            "_view_module_version": "1.5.0",
            "description_tooltip": null,
            "_model_module": "@jupyter-widgets/controls",
            "layout": "IPY_MODEL_dd32d59ba8af47448e41aa02f59b251b"
          }
        },
        "5fa67353a71843d3b6637d2a391f065e": {
          "model_module": "@jupyter-widgets/controls",
          "model_name": "FloatProgressModel",
          "model_module_version": "1.5.0",
          "state": {
            "_view_name": "ProgressView",
            "style": "IPY_MODEL_729cc1caa9614c5a89778b76dc2191f3",
            "_dom_classes": [],
            "description": "",
            "_model_name": "FloatProgressModel",
            "bar_style": "success",
            "max": 8850,
            "_view_module": "@jupyter-widgets/controls",
            "_model_module_version": "1.5.0",
            "value": 8850,
            "_view_count": null,
            "_view_module_version": "1.5.0",
            "orientation": "horizontal",
            "min": 0,
            "description_tooltip": null,
            "_model_module": "@jupyter-widgets/controls",
            "layout": "IPY_MODEL_cceaefeb633048a2a1b9ebf08bcc4ebf"
          }
        },
        "13813bd835ee46fcb0792cf05d931426": {
          "model_module": "@jupyter-widgets/controls",
          "model_name": "HTMLModel",
          "model_module_version": "1.5.0",
          "state": {
            "_view_name": "HTMLView",
            "style": "IPY_MODEL_acbf95db9d1945caaec0568c5a10848c",
            "_dom_classes": [],
            "description": "",
            "_model_name": "HTMLModel",
            "placeholder": "​",
            "_view_module": "@jupyter-widgets/controls",
            "_model_module_version": "1.5.0",
            "value": " 8850/8850 [05:16&lt;00:00, 31.72it/s]",
            "_view_count": null,
            "_view_module_version": "1.5.0",
            "description_tooltip": null,
            "_model_module": "@jupyter-widgets/controls",
            "layout": "IPY_MODEL_9b80a73c0b5c4c4187de58c25509fd16"
          }
        },
        "505705fffc1842a588f505a9fc6b5512": {
          "model_module": "@jupyter-widgets/controls",
          "model_name": "DescriptionStyleModel",
          "model_module_version": "1.5.0",
          "state": {
            "_view_name": "StyleView",
            "_model_name": "DescriptionStyleModel",
            "description_width": "",
            "_view_module": "@jupyter-widgets/base",
            "_model_module_version": "1.5.0",
            "_view_count": null,
            "_view_module_version": "1.2.0",
            "_model_module": "@jupyter-widgets/controls"
          }
        },
        "dd32d59ba8af47448e41aa02f59b251b": {
          "model_module": "@jupyter-widgets/base",
          "model_name": "LayoutModel",
          "model_module_version": "1.2.0",
          "state": {
            "_view_name": "LayoutView",
            "grid_template_rows": null,
            "right": null,
            "justify_content": null,
            "_view_module": "@jupyter-widgets/base",
            "overflow": null,
            "_model_module_version": "1.2.0",
            "_view_count": null,
            "flex_flow": null,
            "width": null,
            "min_width": null,
            "border": null,
            "align_items": null,
            "bottom": null,
            "_model_module": "@jupyter-widgets/base",
            "top": null,
            "grid_column": null,
            "overflow_y": null,
            "overflow_x": null,
            "grid_auto_flow": null,
            "grid_area": null,
            "grid_template_columns": null,
            "flex": null,
            "_model_name": "LayoutModel",
            "justify_items": null,
            "grid_row": null,
            "max_height": null,
            "align_content": null,
            "visibility": null,
            "align_self": null,
            "height": null,
            "min_height": null,
            "padding": null,
            "grid_auto_rows": null,
            "grid_gap": null,
            "max_width": null,
            "order": null,
            "_view_module_version": "1.2.0",
            "grid_template_areas": null,
            "object_position": null,
            "object_fit": null,
            "grid_auto_columns": null,
            "margin": null,
            "display": null,
            "left": null
          }
        },
        "729cc1caa9614c5a89778b76dc2191f3": {
          "model_module": "@jupyter-widgets/controls",
          "model_name": "ProgressStyleModel",
          "model_module_version": "1.5.0",
          "state": {
            "_view_name": "StyleView",
            "_model_name": "ProgressStyleModel",
            "description_width": "",
            "_view_module": "@jupyter-widgets/base",
            "_model_module_version": "1.5.0",
            "_view_count": null,
            "_view_module_version": "1.2.0",
            "bar_color": null,
            "_model_module": "@jupyter-widgets/controls"
          }
        },
        "cceaefeb633048a2a1b9ebf08bcc4ebf": {
          "model_module": "@jupyter-widgets/base",
          "model_name": "LayoutModel",
          "model_module_version": "1.2.0",
          "state": {
            "_view_name": "LayoutView",
            "grid_template_rows": null,
            "right": null,
            "justify_content": null,
            "_view_module": "@jupyter-widgets/base",
            "overflow": null,
            "_model_module_version": "1.2.0",
            "_view_count": null,
            "flex_flow": null,
            "width": null,
            "min_width": null,
            "border": null,
            "align_items": null,
            "bottom": null,
            "_model_module": "@jupyter-widgets/base",
            "top": null,
            "grid_column": null,
            "overflow_y": null,
            "overflow_x": null,
            "grid_auto_flow": null,
            "grid_area": null,
            "grid_template_columns": null,
            "flex": null,
            "_model_name": "LayoutModel",
            "justify_items": null,
            "grid_row": null,
            "max_height": null,
            "align_content": null,
            "visibility": null,
            "align_self": null,
            "height": null,
            "min_height": null,
            "padding": null,
            "grid_auto_rows": null,
            "grid_gap": null,
            "max_width": null,
            "order": null,
            "_view_module_version": "1.2.0",
            "grid_template_areas": null,
            "object_position": null,
            "object_fit": null,
            "grid_auto_columns": null,
            "margin": null,
            "display": null,
            "left": null
          }
        },
        "acbf95db9d1945caaec0568c5a10848c": {
          "model_module": "@jupyter-widgets/controls",
          "model_name": "DescriptionStyleModel",
          "model_module_version": "1.5.0",
          "state": {
            "_view_name": "StyleView",
            "_model_name": "DescriptionStyleModel",
            "description_width": "",
            "_view_module": "@jupyter-widgets/base",
            "_model_module_version": "1.5.0",
            "_view_count": null,
            "_view_module_version": "1.2.0",
            "_model_module": "@jupyter-widgets/controls"
          }
        },
        "9b80a73c0b5c4c4187de58c25509fd16": {
          "model_module": "@jupyter-widgets/base",
          "model_name": "LayoutModel",
          "model_module_version": "1.2.0",
          "state": {
            "_view_name": "LayoutView",
            "grid_template_rows": null,
            "right": null,
            "justify_content": null,
            "_view_module": "@jupyter-widgets/base",
            "overflow": null,
            "_model_module_version": "1.2.0",
            "_view_count": null,
            "flex_flow": null,
            "width": null,
            "min_width": null,
            "border": null,
            "align_items": null,
            "bottom": null,
            "_model_module": "@jupyter-widgets/base",
            "top": null,
            "grid_column": null,
            "overflow_y": null,
            "overflow_x": null,
            "grid_auto_flow": null,
            "grid_area": null,
            "grid_template_columns": null,
            "flex": null,
            "_model_name": "LayoutModel",
            "justify_items": null,
            "grid_row": null,
            "max_height": null,
            "align_content": null,
            "visibility": null,
            "align_self": null,
            "height": null,
            "min_height": null,
            "padding": null,
            "grid_auto_rows": null,
            "grid_gap": null,
            "max_width": null,
            "order": null,
            "_view_module_version": "1.2.0",
            "grid_template_areas": null,
            "object_position": null,
            "object_fit": null,
            "grid_auto_columns": null,
            "margin": null,
            "display": null,
            "left": null
          }
        }
      }
    }
  },
  "cells": [
    {
      "cell_type": "markdown",
      "metadata": {
        "id": "view-in-github",
        "colab_type": "text"
      },
      "source": [
        "<a href=\"https://colab.research.google.com/github/maxiuboldi/test_ml/blob/main/test_ml.ipynb\" target=\"_parent\"><img src=\"https://colab.research.google.com/assets/colab-badge.svg\" alt=\"Open In Colab\"/></a>"
      ]
    },
    {
      "cell_type": "markdown",
      "source": [
        "# **Test ML - Clasificador de Noticias**"
      ],
      "metadata": {
        "id": "M-xka6O_cX7v"
      }
    },
    {
      "cell_type": "markdown",
      "source": [
        "## Objetivo"
      ],
      "metadata": {
        "id": "gaKlmMuYdlGV"
      }
    },
    {
      "cell_type": "markdown",
      "source": [
        "Evaluar la posibilidad de entrenar un clasificador que sea capaz de diferenciar las categorías \"Política\", \"Economía\" y \"Turismo\" del diario La Nación."
      ],
      "metadata": {
        "id": "b92UpcKteMQz"
      }
    },
    {
      "cell_type": "markdown",
      "source": [
        "## Conjunto de datos"
      ],
      "metadata": {
        "id": "ohr-_exrf6EM"
      }
    },
    {
      "cell_type": "markdown",
      "source": [
        "El conjunto de datos corresponde a 2.950 documentos de cada categoría (\"Política\", \"Economía\" y \"Turismo\") representados en formato HTML. Los mismos se obtuvieron directamente de la página web del Diario La Nación en el año 2019."
      ],
      "metadata": {
        "id": "Xai-tv3KgBG1"
      }
    },
    {
      "cell_type": "code",
      "source": [
        "# Se instalan dependencias adicionales al entorno de ejecución\n",
        "!pip install newspaper3k yellowbrick scikit-optimize"
      ],
      "metadata": {
        "colab": {
          "base_uri": "https://localhost:8080/"
        },
        "id": "9ciPmcE4YB5v",
        "outputId": "44530f64-b3b0-4b95-caa0-a7cfaedea7bf"
      },
      "execution_count": null,
      "outputs": [
        {
          "output_type": "stream",
          "name": "stdout",
          "text": [
            "Requirement already satisfied: newspaper3k in /usr/local/lib/python3.7/dist-packages (0.2.8)\n",
            "Requirement already satisfied: yellowbrick in /usr/local/lib/python3.7/dist-packages (1.4)\n",
            "Requirement already satisfied: scikit-optimize in /usr/local/lib/python3.7/dist-packages (0.9.0)\n",
            "Requirement already satisfied: tinysegmenter==0.3 in /usr/local/lib/python3.7/dist-packages (from newspaper3k) (0.3)\n",
            "Requirement already satisfied: Pillow>=3.3.0 in /usr/local/lib/python3.7/dist-packages (from newspaper3k) (7.1.2)\n",
            "Requirement already satisfied: nltk>=3.2.1 in /usr/local/lib/python3.7/dist-packages (from newspaper3k) (3.2.5)\n",
            "Requirement already satisfied: requests>=2.10.0 in /usr/local/lib/python3.7/dist-packages (from newspaper3k) (2.23.0)\n",
            "Requirement already satisfied: python-dateutil>=2.5.3 in /usr/local/lib/python3.7/dist-packages (from newspaper3k) (2.8.2)\n",
            "Requirement already satisfied: beautifulsoup4>=4.4.1 in /usr/local/lib/python3.7/dist-packages (from newspaper3k) (4.6.3)\n",
            "Requirement already satisfied: jieba3k>=0.35.1 in /usr/local/lib/python3.7/dist-packages (from newspaper3k) (0.35.1)\n",
            "Requirement already satisfied: feedfinder2>=0.0.4 in /usr/local/lib/python3.7/dist-packages (from newspaper3k) (0.0.4)\n",
            "Requirement already satisfied: feedparser>=5.2.1 in /usr/local/lib/python3.7/dist-packages (from newspaper3k) (6.0.8)\n",
            "Requirement already satisfied: tldextract>=2.0.1 in /usr/local/lib/python3.7/dist-packages (from newspaper3k) (3.2.0)\n",
            "Requirement already satisfied: cssselect>=0.9.2 in /usr/local/lib/python3.7/dist-packages (from newspaper3k) (1.1.0)\n",
            "Requirement already satisfied: lxml>=3.6.0 in /usr/local/lib/python3.7/dist-packages (from newspaper3k) (4.2.6)\n",
            "Requirement already satisfied: PyYAML>=3.11 in /usr/local/lib/python3.7/dist-packages (from newspaper3k) (3.13)\n",
            "Requirement already satisfied: six in /usr/local/lib/python3.7/dist-packages (from feedfinder2>=0.0.4->newspaper3k) (1.15.0)\n",
            "Requirement already satisfied: sgmllib3k in /usr/local/lib/python3.7/dist-packages (from feedparser>=5.2.1->newspaper3k) (1.0.0)\n",
            "Requirement already satisfied: chardet<4,>=3.0.2 in /usr/local/lib/python3.7/dist-packages (from requests>=2.10.0->newspaper3k) (3.0.4)\n",
            "Requirement already satisfied: certifi>=2017.4.17 in /usr/local/lib/python3.7/dist-packages (from requests>=2.10.0->newspaper3k) (2021.10.8)\n",
            "Requirement already satisfied: idna<3,>=2.5 in /usr/local/lib/python3.7/dist-packages (from requests>=2.10.0->newspaper3k) (2.10)\n",
            "Requirement already satisfied: urllib3!=1.25.0,!=1.25.1,<1.26,>=1.21.1 in /usr/local/lib/python3.7/dist-packages (from requests>=2.10.0->newspaper3k) (1.24.3)\n",
            "Requirement already satisfied: requests-file>=1.4 in /usr/local/lib/python3.7/dist-packages (from tldextract>=2.0.1->newspaper3k) (1.5.1)\n",
            "Requirement already satisfied: filelock>=3.0.8 in /usr/local/lib/python3.7/dist-packages (from tldextract>=2.0.1->newspaper3k) (3.6.0)\n",
            "Requirement already satisfied: matplotlib!=3.0.0,>=2.0.2 in /usr/local/lib/python3.7/dist-packages (from yellowbrick) (3.2.2)\n",
            "Requirement already satisfied: numpy>=1.16.0 in /usr/local/lib/python3.7/dist-packages (from yellowbrick) (1.21.5)\n",
            "Requirement already satisfied: scikit-learn>=1.0.0 in /usr/local/lib/python3.7/dist-packages (from yellowbrick) (1.0.2)\n",
            "Requirement already satisfied: scipy>=1.0.0 in /usr/local/lib/python3.7/dist-packages (from yellowbrick) (1.4.1)\n",
            "Requirement already satisfied: cycler>=0.10.0 in /usr/local/lib/python3.7/dist-packages (from yellowbrick) (0.11.0)\n",
            "Requirement already satisfied: kiwisolver>=1.0.1 in /usr/local/lib/python3.7/dist-packages (from matplotlib!=3.0.0,>=2.0.2->yellowbrick) (1.3.2)\n",
            "Requirement already satisfied: pyparsing!=2.0.4,!=2.1.2,!=2.1.6,>=2.0.1 in /usr/local/lib/python3.7/dist-packages (from matplotlib!=3.0.0,>=2.0.2->yellowbrick) (3.0.7)\n",
            "Requirement already satisfied: threadpoolctl>=2.0.0 in /usr/local/lib/python3.7/dist-packages (from scikit-learn>=1.0.0->yellowbrick) (3.1.0)\n",
            "Requirement already satisfied: joblib>=0.11 in /usr/local/lib/python3.7/dist-packages (from scikit-learn>=1.0.0->yellowbrick) (1.1.0)\n",
            "Requirement already satisfied: pyaml>=16.9 in /usr/local/lib/python3.7/dist-packages (from scikit-optimize) (21.10.1)\n"
          ]
        }
      ]
    },
    {
      "cell_type": "code",
      "source": [
        "from newspaper import Article\n",
        "import pandas as pd\n",
        "import numpy as np\n",
        "from yellowbrick.target import ClassBalance\n",
        "from yellowbrick.classifier import ClassificationReport, ConfusionMatrix\n",
        "import re\n",
        "from unicodedata import normalize\n",
        "from tqdm.notebook import tqdm\n",
        "from nltk.tokenize import RegexpTokenizer\n",
        "from nltk.stem import SnowballStemmer\n",
        "from nltk import download\n",
        "from nltk.corpus import stopwords\n",
        "from sklearn.model_selection import train_test_split\n",
        "from sklearn.feature_extraction.text import TfidfVectorizer\n",
        "from sklearn.preprocessing import LabelEncoder\n",
        "from sklearn.linear_model import LogisticRegression\n",
        "from lightgbm import LGBMClassifier\n",
        "from sklearn.ensemble import ExtraTreesClassifier\n",
        "from sklearn.pipeline import Pipeline\n",
        "from sklearn.feature_selection import SelectKBest, chi2\n",
        "from skopt import BayesSearchCV\n",
        "from skopt.space import Real, Categorical, Integer\n",
        "import seaborn as sns \n",
        "import matplotlib.pyplot as plt"
      ],
      "metadata": {
        "id": "wnERjDt3TD2Q"
      },
      "execution_count": null,
      "outputs": []
    },
    {
      "cell_type": "code",
      "source": [
        "# Descargamos el conjunto de datos desde el Drive público (https://drive.google.com/file/d/18cv5plohpbWMLXIXToX57sqS39vLAxFW/view?usp=sharing) al entorno.\n",
        "# Ref: https://inside-machinelearning.com/en/quickly-upload-public-google-drive-files-on-notebook-and-colab/\n",
        "!wget -q --show-progress --load-cookies /tmp/cookies.txt \"https://docs.google.com/uc?export=download&confirm=$(wget --quiet --save-cookies /tmp/cookies.txt --keep-session-cookies --no-check-certificate 'https://docs.google.com/uc?export=download&id=18cv5plohpbWMLXIXToX57sqS39vLAxFW' -O- | sed -rn 's/.*confirm=([0-9A-Za-z_]+).*/\\1\\n/p')&id=18cv5plohpbWMLXIXToX57sqS39vLAxFW\" -O la_nacion_dataset.pkl && rm -rf /tmp/cookies.txt"
      ],
      "metadata": {
        "id": "DivLG5-lexm0",
        "colab": {
          "base_uri": "https://localhost:8080/"
        },
        "outputId": "49323f99-186d-4e2c-dab4-18c127ee7800"
      },
      "execution_count": null,
      "outputs": [
        {
          "output_type": "stream",
          "name": "stdout",
          "text": [
            "la_nacion_dataset.p 100%[===================>]   1.19G   109MB/s    in 12s     \n"
          ]
        }
      ]
    },
    {
      "cell_type": "code",
      "source": [
        "# Constantes y configuraciones\n",
        "SEED = 8888\n",
        "plt.rcParams['figure.figsize'] = (16, 10)\n",
        "sns.set()"
      ],
      "metadata": {
        "id": "WfSgbE8itm6B"
      },
      "execution_count": null,
      "outputs": []
    },
    {
      "cell_type": "code",
      "source": [
        "# Cargamos el dataset\n",
        "dataset = pd.read_pickle('la_nacion_dataset.pkl')"
      ],
      "metadata": {
        "id": "PeVu6JcOZXYR"
      },
      "execution_count": null,
      "outputs": []
    },
    {
      "cell_type": "code",
      "source": [
        "# Inspeccionamos el dataset\n",
        "dataset.head()"
      ],
      "metadata": {
        "colab": {
          "base_uri": "https://localhost:8080/",
          "height": 206
        },
        "id": "7o9MPQiNgawl",
        "outputId": "a64fe752-a24c-49e7-88fa-7e16efdef02f"
      },
      "execution_count": null,
      "outputs": [
        {
          "output_type": "execute_result",
          "data": {
            "text/html": [
              "\n",
              "  <div id=\"df-51e72afa-18b8-4a49-8f7d-c58ee9986fce\">\n",
              "    <div class=\"colab-df-container\">\n",
              "      <div>\n",
              "<style scoped>\n",
              "    .dataframe tbody tr th:only-of-type {\n",
              "        vertical-align: middle;\n",
              "    }\n",
              "\n",
              "    .dataframe tbody tr th {\n",
              "        vertical-align: top;\n",
              "    }\n",
              "\n",
              "    .dataframe thead th {\n",
              "        text-align: right;\n",
              "    }\n",
              "</style>\n",
              "<table border=\"1\" class=\"dataframe\">\n",
              "  <thead>\n",
              "    <tr style=\"text-align: right;\">\n",
              "      <th></th>\n",
              "      <th>data</th>\n",
              "      <th>target</th>\n",
              "    </tr>\n",
              "  </thead>\n",
              "  <tbody>\n",
              "    <tr>\n",
              "      <th>0</th>\n",
              "      <td>&lt;!DOCTYPE html&gt;\\r\\n&lt;html lang=\"es\"&gt;\\r\\n&lt;head&gt;\\...</td>\n",
              "      <td>Politica</td>\n",
              "    </tr>\n",
              "    <tr>\n",
              "      <th>1</th>\n",
              "      <td>&lt;!DOCTYPE html&gt;\\r\\n&lt;html lang=\"es\"&gt;\\r\\n&lt;head&gt;\\...</td>\n",
              "      <td>Turismo</td>\n",
              "    </tr>\n",
              "    <tr>\n",
              "      <th>2</th>\n",
              "      <td>&lt;!DOCTYPE html&gt;\\r\\n&lt;html lang=\"es\"&gt;\\r\\n&lt;head&gt;\\...</td>\n",
              "      <td>Turismo</td>\n",
              "    </tr>\n",
              "    <tr>\n",
              "      <th>3</th>\n",
              "      <td>&lt;!DOCTYPE html&gt;\\r\\n&lt;html lang=\"es\"&gt;\\r\\n&lt;head&gt;\\...</td>\n",
              "      <td>Economia</td>\n",
              "    </tr>\n",
              "    <tr>\n",
              "      <th>4</th>\n",
              "      <td>&lt;!DOCTYPE html&gt;\\r\\n&lt;html lang=\"es\"&gt;\\r\\n&lt;head&gt;\\...</td>\n",
              "      <td>Turismo</td>\n",
              "    </tr>\n",
              "  </tbody>\n",
              "</table>\n",
              "</div>\n",
              "      <button class=\"colab-df-convert\" onclick=\"convertToInteractive('df-51e72afa-18b8-4a49-8f7d-c58ee9986fce')\"\n",
              "              title=\"Convert this dataframe to an interactive table.\"\n",
              "              style=\"display:none;\">\n",
              "        \n",
              "  <svg xmlns=\"http://www.w3.org/2000/svg\" height=\"24px\"viewBox=\"0 0 24 24\"\n",
              "       width=\"24px\">\n",
              "    <path d=\"M0 0h24v24H0V0z\" fill=\"none\"/>\n",
              "    <path d=\"M18.56 5.44l.94 2.06.94-2.06 2.06-.94-2.06-.94-.94-2.06-.94 2.06-2.06.94zm-11 1L8.5 8.5l.94-2.06 2.06-.94-2.06-.94L8.5 2.5l-.94 2.06-2.06.94zm10 10l.94 2.06.94-2.06 2.06-.94-2.06-.94-.94-2.06-.94 2.06-2.06.94z\"/><path d=\"M17.41 7.96l-1.37-1.37c-.4-.4-.92-.59-1.43-.59-.52 0-1.04.2-1.43.59L10.3 9.45l-7.72 7.72c-.78.78-.78 2.05 0 2.83L4 21.41c.39.39.9.59 1.41.59.51 0 1.02-.2 1.41-.59l7.78-7.78 2.81-2.81c.8-.78.8-2.07 0-2.86zM5.41 20L4 18.59l7.72-7.72 1.47 1.35L5.41 20z\"/>\n",
              "  </svg>\n",
              "      </button>\n",
              "      \n",
              "  <style>\n",
              "    .colab-df-container {\n",
              "      display:flex;\n",
              "      flex-wrap:wrap;\n",
              "      gap: 12px;\n",
              "    }\n",
              "\n",
              "    .colab-df-convert {\n",
              "      background-color: #E8F0FE;\n",
              "      border: none;\n",
              "      border-radius: 50%;\n",
              "      cursor: pointer;\n",
              "      display: none;\n",
              "      fill: #1967D2;\n",
              "      height: 32px;\n",
              "      padding: 0 0 0 0;\n",
              "      width: 32px;\n",
              "    }\n",
              "\n",
              "    .colab-df-convert:hover {\n",
              "      background-color: #E2EBFA;\n",
              "      box-shadow: 0px 1px 2px rgba(60, 64, 67, 0.3), 0px 1px 3px 1px rgba(60, 64, 67, 0.15);\n",
              "      fill: #174EA6;\n",
              "    }\n",
              "\n",
              "    [theme=dark] .colab-df-convert {\n",
              "      background-color: #3B4455;\n",
              "      fill: #D2E3FC;\n",
              "    }\n",
              "\n",
              "    [theme=dark] .colab-df-convert:hover {\n",
              "      background-color: #434B5C;\n",
              "      box-shadow: 0px 1px 3px 1px rgba(0, 0, 0, 0.15);\n",
              "      filter: drop-shadow(0px 1px 2px rgba(0, 0, 0, 0.3));\n",
              "      fill: #FFFFFF;\n",
              "    }\n",
              "  </style>\n",
              "\n",
              "      <script>\n",
              "        const buttonEl =\n",
              "          document.querySelector('#df-51e72afa-18b8-4a49-8f7d-c58ee9986fce button.colab-df-convert');\n",
              "        buttonEl.style.display =\n",
              "          google.colab.kernel.accessAllowed ? 'block' : 'none';\n",
              "\n",
              "        async function convertToInteractive(key) {\n",
              "          const element = document.querySelector('#df-51e72afa-18b8-4a49-8f7d-c58ee9986fce');\n",
              "          const dataTable =\n",
              "            await google.colab.kernel.invokeFunction('convertToInteractive',\n",
              "                                                     [key], {});\n",
              "          if (!dataTable) return;\n",
              "\n",
              "          const docLinkHtml = 'Like what you see? Visit the ' +\n",
              "            '<a target=\"_blank\" href=https://colab.research.google.com/notebooks/data_table.ipynb>data table notebook</a>'\n",
              "            + ' to learn more about interactive tables.';\n",
              "          element.innerHTML = '';\n",
              "          dataTable['output_type'] = 'display_data';\n",
              "          await google.colab.output.renderOutput(dataTable, element);\n",
              "          const docLink = document.createElement('div');\n",
              "          docLink.innerHTML = docLinkHtml;\n",
              "          element.appendChild(docLink);\n",
              "        }\n",
              "      </script>\n",
              "    </div>\n",
              "  </div>\n",
              "  "
            ],
            "text/plain": [
              "                                                data    target\n",
              "0  <!DOCTYPE html>\\r\\n<html lang=\"es\">\\r\\n<head>\\...  Politica\n",
              "1  <!DOCTYPE html>\\r\\n<html lang=\"es\">\\r\\n<head>\\...   Turismo\n",
              "2  <!DOCTYPE html>\\r\\n<html lang=\"es\">\\r\\n<head>\\...   Turismo\n",
              "3  <!DOCTYPE html>\\r\\n<html lang=\"es\">\\r\\n<head>\\...  Economia\n",
              "4  <!DOCTYPE html>\\r\\n<html lang=\"es\">\\r\\n<head>\\...   Turismo"
            ]
          },
          "metadata": {},
          "execution_count": 6
        }
      ]
    },
    {
      "cell_type": "code",
      "source": [
        "# Vemos la distribución de clases\n",
        "ClassBalance().fit(dataset['target']).show()"
      ],
      "metadata": {
        "colab": {
          "base_uri": "https://localhost:8080/",
          "height": 631
        },
        "id": "UpeJ916lJXdH",
        "outputId": "5fb2e671-a3d2-4148-bd25-16b81328e8a6"
      },
      "execution_count": null,
      "outputs": [
        {
          "output_type": "display_data",
          "data": {
            "image/png": "[encoded data removed]",
            "text/plain": [
              "<Figure size 1152x720 with 1 Axes>"
            ]
          },
          "metadata": {}
        },
        {
          "output_type": "execute_result",
          "data": {
            "text/plain": [
              "<matplotlib.axes._subplots.AxesSubplot at 0x7f0fb3644550>"
            ]
          },
          "metadata": {},
          "execution_count": 7
        }
      ]
    },
    {
      "cell_type": "markdown",
      "source": [
        "## Preprocesamiento y generación de matriz TF-IDF"
      ],
      "metadata": {
        "id": "XY7PdBWUlQH4"
      }
    },
    {
      "cell_type": "markdown",
      "source": [
        "A los fines de generar una estructura adecuada para modelar se opta por la generación de una matriz TF-IDF la cual permite obtener una representación vectorial de cada documento en donde numéricamente se representa la relevancia de cada palabra, o conjunto de palabras, en el documento y la colección de los mismos bajo un esquema de bolsa de palabras (o bag of words) en donde los documentos son representados por la frecuencia de sus palabras, ignorando la posición de las mismas.\n",
        "\n",
        "A continuación se detallan los pasos del preprocesamiento:\n",
        "\n",
        "1. Obtención del documento identificando el mismo en el lenguaje español.\n",
        "2. extracción del HTML de la parte del documento relevante (cuerpo de la noticia) utilizando para ello como inicio el tag asociado al comienzo del párrafo con letra capital (\\<p class=\"capital\">) y al fin de la noticia el tag asociado con la opción de indicar si la noticia fue del agrado del lector (\\<span class=\"texto-like\">);\n",
        "3. obtención del texto crudo del cuerpo de la noticia, ignorando etiquetas HTML, funciones JS, etc;\n",
        "4. se convierten los textos a minúsculas;\n",
        "5. se remueven corchetes;\n",
        "6. se remueven paréntesis;\n",
        "7. se remueven palabras que contienen dígitos;\n",
        "8. se remueven los saltos de línea;\n",
        "9. se remueven distintos caracteres no sintácticos como ser símbolos, entrecomillados, numerales, asteriscos, etc.;\n",
        "10. se sustituyen los múltiples espacios por uno sólo;\n",
        "11. se excluyen las palabras vacías comunes del lenguaje español (stop words);\n",
        "12. se aplica la técnica de stemming utilizando para ello el algoritmo Snowball;\n",
        "13. sin acentos y normalización [NFKD](https://docs.python.org/3/library/unicodedata.html#unicodedata.normalize);\n",
        "14. se generan unigramas y bigramas;\n",
        "15. se configura el ignorar los términos con una frecuencia absoluta en los documentos menor a 20 y una máxima del 80%.\n",
        "\n"
      ],
      "metadata": {
        "id": "q4Dkckv0lUFK"
      }
    },
    {
      "cell_type": "code",
      "source": [
        "def clean_text(text, lower=False, normal=False):\n",
        "    \"\"\"Limpia el texto de cada documento\"\"\"\n",
        "    article = Article('', language='es')  # Extrae el texto del HTML\n",
        "    # Obtiene el cuerpo de la noticia, luego de la capitalización inicial y hasta el ¿Te gustó esta nota?\n",
        "    article.set_html(text.split('<p class=\"capital\">', 1)[-1].split('<span class=\"texto-like\">', 1)[0])\n",
        "    article.parse()\n",
        "    text = article.text\n",
        "    if lower:\n",
        "        text = text.lower()  # texto a minúsculas\n",
        "    text = re.sub(r'\\[.*?¿]%', ' ', text)  # Se remueven corchetes\n",
        "    text = re.sub(r'\\(.*?¿\\)%', ' ', text)  # Se remueven parentesis\n",
        "    text = re.sub(r'\\w*\\d\\w*', '', text)  # Se remueven palabras que contienen dígitos.\n",
        "    text = re.sub(r'\\n', ' ', text)  # Sustituye nueva línea por un espacio\n",
        "    text = re.sub(r'[‘’“”\\'…«»°*_/¿¡!?;,.\\-:\"~<>()|·•$#%]', '', text)  # Remueve otros caracteres no sintácticos\n",
        "    text = re.sub(r'\\s+', ' ', text, flags=re.I)  # Sustituye los múltiples espacios por sólo un espacio\n",
        "    if normal:\n",
        "        text = re.sub(r\"([^n\\u0300-\\u036f]|n(?!\\u0303(?![\\u0300-\\u036f])))[\\u0300-\\u036f]+|\\u20AC\", r\"\\1\",\n",
        "                      normalize(\"NFD\", text), 0, re.I)  # NFD y eliminar diacríticos\n",
        "        text = normalize('NFC', text)  # NFC\n",
        "    return text\n",
        "\n",
        "\n",
        "def stem_tokens(tokens, stemmer=None):\n",
        "    \"\"\"Aplica el stem al token\"\"\"\n",
        "    if stemmer is None:\n",
        "        stemmer = SnowballStemmer('spanish')\n",
        "    stemmed = []\n",
        "    for item in tokens:\n",
        "        stemmed.append(stemmer.stem(item))\n",
        "    return stemmed\n",
        "\n",
        "\n",
        "def tokenize(text):\n",
        "    \"\"\"Tokeniza el texto según definición\"\"\"\n",
        "    # 2 o más caracteres alfanuméricos, ignorando la puntuación y tratando los mismos como separadores.\n",
        "    tokenizer = RegexpTokenizer(r'[a-zA-ZâáàãõáêéíóôõúüÁÉÍÓÚñÑçÇ][0-9a-zA-ZâáàãõáêéíóôõúüÁÉÍÓÚñÑçÇ]+')\n",
        "    tokens = tokenizer.tokenize(text)\n",
        "    stems = stem_tokens(tokens)\n",
        "    return stems"
      ],
      "metadata": {
        "id": "kVdfYYA3nePx"
      },
      "execution_count": null,
      "outputs": []
    },
    {
      "cell_type": "code",
      "source": [
        "tqdm.pandas(desc='Preprocesando textos')\n",
        "dataset['data'] = dataset['data'].progress_apply(clean_text, args=(True, False))\n",
        "# Existen artículos que no cumplen con las reglas definidas, por ejemplo, que no comienzan con la letra capital, esos casos se eliminan porque quedan en blanco\n",
        "dataset['data'].replace(' ', np.nan, inplace=True)  # reemplazamos espacios por nulos\n",
        "dataset['data'].replace('', np.nan, inplace=True)  # reemplazamos vacíos por nulos\n",
        "dataset.dropna(subset=['data'], inplace=True)  # dropeamos todos los nulos"
      ],
      "metadata": {
        "colab": {
          "base_uri": "https://localhost:8080/",
          "height": 49,
          "referenced_widgets": [
            "a3dd379202ee4204ba5ea531beb67b6c",
            "a2cd41b3801548ba959f65866822b0d2",
            "ea546034b9304feea782e940c1d9d170",
            "5fa67353a71843d3b6637d2a391f065e",
            "13813bd835ee46fcb0792cf05d931426",
            "505705fffc1842a588f505a9fc6b5512",
            "dd32d59ba8af47448e41aa02f59b251b",
            "729cc1caa9614c5a89778b76dc2191f3",
            "cceaefeb633048a2a1b9ebf08bcc4ebf",
            "acbf95db9d1945caaec0568c5a10848c",
            "9b80a73c0b5c4c4187de58c25509fd16"
          ]
        },
        "id": "CZRw2snvruyv",
        "outputId": "a95045fd-99fa-45b8-c351-de7dcc9d3982"
      },
      "execution_count": null,
      "outputs": [
        {
          "output_type": "display_data",
          "data": {
            "application/vnd.jupyter.widget-view+json": {
              "model_id": "a3dd379202ee4204ba5ea531beb67b6c",
              "version_minor": 0,
              "version_major": 2
            },
            "text/plain": [
              "Preprocesando textos:   0%|          | 0/8850 [00:00<?, ?it/s]"
            ]
          },
          "metadata": {}
        }
      ]
    },
    {
      "cell_type": "code",
      "source": [
        "# Vemos como queda\n",
        "dataset.head()"
      ],
      "metadata": {
        "colab": {
          "base_uri": "https://localhost:8080/",
          "height": 206
        },
        "collapsed": true,
        "id": "5c2RGgLyx2wS",
        "outputId": "2b646bb7-a590-47d1-9984-248c4d35d623"
      },
      "execution_count": null,
      "outputs": [
        {
          "output_type": "execute_result",
          "data": {
            "text/html": [
              "\n",
              "  <div id=\"df-2303195d-867a-4b87-a472-4c8b7b163443\">\n",
              "    <div class=\"colab-df-container\">\n",
              "      <div>\n",
              "<style scoped>\n",
              "    .dataframe tbody tr th:only-of-type {\n",
              "        vertical-align: middle;\n",
              "    }\n",
              "\n",
              "    .dataframe tbody tr th {\n",
              "        vertical-align: top;\n",
              "    }\n",
              "\n",
              "    .dataframe thead th {\n",
              "        text-align: right;\n",
              "    }\n",
              "</style>\n",
              "<table border=\"1\" class=\"dataframe\">\n",
              "  <thead>\n",
              "    <tr style=\"text-align: right;\">\n",
              "      <th></th>\n",
              "      <th>data</th>\n",
              "      <th>target</th>\n",
              "    </tr>\n",
              "  </thead>\n",
              "  <tbody>\n",
              "    <tr>\n",
              "      <th>0</th>\n",
              "      <td>la jueza federal maría servini pidió a interpo...</td>\n",
              "      <td>Politica</td>\n",
              "    </tr>\n",
              "    <tr>\n",
              "      <th>1</th>\n",
              "      <td>los colores blanco y azul de mar evocan al med...</td>\n",
              "      <td>Turismo</td>\n",
              "    </tr>\n",
              "    <tr>\n",
              "      <th>2</th>\n",
              "      <td>hornaditas la argentina es un país algo perifé...</td>\n",
              "      <td>Turismo</td>\n",
              "    </tr>\n",
              "    <tr>\n",
              "      <th>3</th>\n",
              "      <td>las estrategias de mitigación y adaptación ant...</td>\n",
              "      <td>Economia</td>\n",
              "    </tr>\n",
              "    <tr>\n",
              "      <th>4</th>\n",
              "      <td>no la estaba pasando bien nueva zelanda en mat...</td>\n",
              "      <td>Turismo</td>\n",
              "    </tr>\n",
              "  </tbody>\n",
              "</table>\n",
              "</div>\n",
              "      <button class=\"colab-df-convert\" onclick=\"convertToInteractive('df-2303195d-867a-4b87-a472-4c8b7b163443')\"\n",
              "              title=\"Convert this dataframe to an interactive table.\"\n",
              "              style=\"display:none;\">\n",
              "        \n",
              "  <svg xmlns=\"http://www.w3.org/2000/svg\" height=\"24px\"viewBox=\"0 0 24 24\"\n",
              "       width=\"24px\">\n",
              "    <path d=\"M0 0h24v24H0V0z\" fill=\"none\"/>\n",
              "    <path d=\"M18.56 5.44l.94 2.06.94-2.06 2.06-.94-2.06-.94-.94-2.06-.94 2.06-2.06.94zm-11 1L8.5 8.5l.94-2.06 2.06-.94-2.06-.94L8.5 2.5l-.94 2.06-2.06.94zm10 10l.94 2.06.94-2.06 2.06-.94-2.06-.94-.94-2.06-.94 2.06-2.06.94z\"/><path d=\"M17.41 7.96l-1.37-1.37c-.4-.4-.92-.59-1.43-.59-.52 0-1.04.2-1.43.59L10.3 9.45l-7.72 7.72c-.78.78-.78 2.05 0 2.83L4 21.41c.39.39.9.59 1.41.59.51 0 1.02-.2 1.41-.59l7.78-7.78 2.81-2.81c.8-.78.8-2.07 0-2.86zM5.41 20L4 18.59l7.72-7.72 1.47 1.35L5.41 20z\"/>\n",
              "  </svg>\n",
              "      </button>\n",
              "      \n",
              "  <style>\n",
              "    .colab-df-container {\n",
              "      display:flex;\n",
              "      flex-wrap:wrap;\n",
              "      gap: 12px;\n",
              "    }\n",
              "\n",
              "    .colab-df-convert {\n",
              "      background-color: #E8F0FE;\n",
              "      border: none;\n",
              "      border-radius: 50%;\n",
              "      cursor: pointer;\n",
              "      display: none;\n",
              "      fill: #1967D2;\n",
              "      height: 32px;\n",
              "      padding: 0 0 0 0;\n",
              "      width: 32px;\n",
              "    }\n",
              "\n",
              "    .colab-df-convert:hover {\n",
              "      background-color: #E2EBFA;\n",
              "      box-shadow: 0px 1px 2px rgba(60, 64, 67, 0.3), 0px 1px 3px 1px rgba(60, 64, 67, 0.15);\n",
              "      fill: #174EA6;\n",
              "    }\n",
              "\n",
              "    [theme=dark] .colab-df-convert {\n",
              "      background-color: #3B4455;\n",
              "      fill: #D2E3FC;\n",
              "    }\n",
              "\n",
              "    [theme=dark] .colab-df-convert:hover {\n",
              "      background-color: #434B5C;\n",
              "      box-shadow: 0px 1px 3px 1px rgba(0, 0, 0, 0.15);\n",
              "      filter: drop-shadow(0px 1px 2px rgba(0, 0, 0, 0.3));\n",
              "      fill: #FFFFFF;\n",
              "    }\n",
              "  </style>\n",
              "\n",
              "      <script>\n",
              "        const buttonEl =\n",
              "          document.querySelector('#df-2303195d-867a-4b87-a472-4c8b7b163443 button.colab-df-convert');\n",
              "        buttonEl.style.display =\n",
              "          google.colab.kernel.accessAllowed ? 'block' : 'none';\n",
              "\n",
              "        async function convertToInteractive(key) {\n",
              "          const element = document.querySelector('#df-2303195d-867a-4b87-a472-4c8b7b163443');\n",
              "          const dataTable =\n",
              "            await google.colab.kernel.invokeFunction('convertToInteractive',\n",
              "                                                     [key], {});\n",
              "          if (!dataTable) return;\n",
              "\n",
              "          const docLinkHtml = 'Like what you see? Visit the ' +\n",
              "            '<a target=\"_blank\" href=https://colab.research.google.com/notebooks/data_table.ipynb>data table notebook</a>'\n",
              "            + ' to learn more about interactive tables.';\n",
              "          element.innerHTML = '';\n",
              "          dataTable['output_type'] = 'display_data';\n",
              "          await google.colab.output.renderOutput(dataTable, element);\n",
              "          const docLink = document.createElement('div');\n",
              "          docLink.innerHTML = docLinkHtml;\n",
              "          element.appendChild(docLink);\n",
              "        }\n",
              "      </script>\n",
              "    </div>\n",
              "  </div>\n",
              "  "
            ],
            "text/plain": [
              "                                                data    target\n",
              "0  la jueza federal maría servini pidió a interpo...  Politica\n",
              "1  los colores blanco y azul de mar evocan al med...   Turismo\n",
              "2  hornaditas la argentina es un país algo perifé...   Turismo\n",
              "3  las estrategias de mitigación y adaptación ant...  Economia\n",
              "4  no la estaba pasando bien nueva zelanda en mat...   Turismo"
            ]
          },
          "metadata": {},
          "execution_count": 10
        }
      ]
    },
    {
      "cell_type": "code",
      "source": [
        "# Codificamos las clases\n",
        "le = LabelEncoder()\n",
        "dataset['target'] = le.fit_transform(dataset['target'])\n",
        "classes = le.classes_\n",
        "\n",
        "# Separamos el conjunto en entrenamiento y test\n",
        "train_data, test_data, train_target, test_target = train_test_split(\n",
        "    dataset.loc[:, dataset.columns != 'target'],\n",
        "    dataset['target'],\n",
        "    test_size=0.2,\n",
        "    random_state=SEED,\n",
        "    stratify=dataset['target'])"
      ],
      "metadata": {
        "id": "ub-8Rqr9rzuA"
      },
      "execution_count": null,
      "outputs": []
    },
    {
      "cell_type": "code",
      "source": [
        "# Revisamos como queda la distribución de clases\n",
        "ClassBalance(labels=classes).fit(train_target, test_target).show()"
      ],
      "metadata": {
        "colab": {
          "base_uri": "https://localhost:8080/",
          "height": 631
        },
        "id": "qs6dYX85KBQ_",
        "outputId": "e091aa14-afe0-4d7d-8214-ca869830ffa2"
      },
      "execution_count": null,
      "outputs": [
        {
          "output_type": "display_data",
          "data": {
            "image/png": "[encoded data removed]",
            "text/plain": [
              "<Figure size 1152x720 with 1 Axes>"
            ]
          },
          "metadata": {}
        },
        {
          "output_type": "execute_result",
          "data": {
            "text/plain": [
              "<matplotlib.axes._subplots.AxesSubplot at 0x7f0fb296ed10>"
            ]
          },
          "metadata": {},
          "execution_count": 12
        }
      ]
    },
    {
      "cell_type": "code",
      "source": [
        "download('stopwords')\n",
        "spanish_stops = set(stopwords.words('spanish'))\n",
        "spanish_stops.update(['tambi'])  # Actualizamos para evitar la inconsistencia\n",
        "\n",
        "# Se tokenizan las stop words\n",
        "spanish_stops_stem = stem_tokens(spanish_stops)\n",
        "\n",
        "# Generamos la matriz\n",
        "vectorizer = TfidfVectorizer(\n",
        "    tokenizer=tokenize,\n",
        "    ngram_range=(1, 2),\n",
        "    min_df=20,\n",
        "    max_df=0.8,\n",
        "    stop_words=spanish_stops_stem,\n",
        "    strip_accents='unicode',\n",
        "    dtype=np.float32\n",
        "    )\n",
        "train_data_vec = pd.DataFrame(\n",
        "    vectorizer.fit_transform(train_data['data']).toarray(),\n",
        "    columns=vectorizer.get_feature_names_out()\n",
        "    )\n",
        "test_data_vec = pd.DataFrame(\n",
        "    vectorizer.transform(test_data['data']).toarray(),\n",
        "    columns=vectorizer.get_feature_names_out()\n",
        "    )"
      ],
      "metadata": {
        "colab": {
          "base_uri": "https://localhost:8080/"
        },
        "id": "GzQ2i_oDyF1l",
        "outputId": "7917ab7f-3559-454d-a45c-c6dbd89b8f95"
      },
      "execution_count": null,
      "outputs": [
        {
          "output_type": "stream",
          "name": "stdout",
          "text": [
            "[nltk_data] Downloading package stopwords to /root/nltk_data...\n",
            "[nltk_data]   Package stopwords is already up-to-date!\n"
          ]
        }
      ]
    },
    {
      "cell_type": "markdown",
      "source": [
        "## Selección de modelos"
      ],
      "metadata": {
        "id": "WdXXXRGBYt-w"
      }
    },
    {
      "cell_type": "markdown",
      "source": [
        "La selección del modelo se realiza sobre tres algoritmos, Regresión Logística, LightGBM (*boosting*) y ExtraTrees (*bagging*). Adicionalmente, debido a que la matriz TF-IDF genera una dimensionalidad demasiado elevada, se realiza una selección de features por medio de la métrica **chi2**. La cantidad de features y los hiperprámetros de los algoritmos son optimizados utilizando la técnica bayesiana con 5 folds de cross validation. Es importante mencionar que se optimiza por medio de la métrica **accuracy** teniendo en consideración que el target es balanceado, por lo que es una métrica aceptable."
      ],
      "metadata": {
        "id": "nZevxjof_Ef1"
      }
    },
    {
      "cell_type": "code",
      "source": [
        "# El pipeline se utiliza como un estimador para habilitar la búsqueda sobre diferentes tipos de modelos\n",
        "pipe = Pipeline([('scl', SelectKBest(score_func=chi2)),\n",
        "                 ('clf', LGBMClassifier(random_state=SEED))])\n",
        "\n",
        "# Definimos el espacio de búsqueda\n",
        "search_space = [\n",
        "    {\n",
        "        'clf': [LogisticRegression(random_state=SEED)],\n",
        "        'scl__k': Integer(50, 300),\n",
        "        'clf__penalty': Categorical(['l1', 'l2']),\n",
        "        'clf__C': Real(0.0001, 512., prior='log-uniform'),\n",
        "        'clf__solver': Categorical(['liblinear', 'saga']),\n",
        "        'clf__max_iter': Integer(50, 5000)\n",
        "        },\n",
        "    {\n",
        "        'clf': [LGBMClassifier(random_state=SEED)],\n",
        "        'scl__k': Integer(50, 300),\n",
        "        'clf__n_estimators': Integer(50, 1000),\n",
        "        'clf__learning_rate': Real(0.005, 0.1, prior='log-uniform'),\n",
        "        'clf__subsample': Real(0.0001, 1.0, prior='uniform'),\n",
        "        'clf__min_child_samples': Integer(1, 500),\n",
        "        'clf__num_leaves': Integer(10, 512),\n",
        "        'clf__min_split_gain': Real(0.0, 1.0, prior='uniform'),\n",
        "        'clf__colsample_bytree': Real(0.05, 1.0, prior='uniform'),\n",
        "        'clf__max_depth': Integer(0, 100)\n",
        "        },\n",
        "    {\n",
        "        'clf': [ExtraTreesClassifier(random_state=SEED)],\n",
        "        'scl__k': Integer(50, 300),\n",
        "        'clf__n_estimators': Integer(50, 1000),\n",
        "        'clf__criterion': Categorical(['gini', 'entropy']),\n",
        "        'clf__max_features': Real(0.05, 1.0, prior='uniform'),\n",
        "        'clf__min_samples_split': Integer(2, 50),\n",
        "        'clf__min_samples_leaf': Integer(1, 50),\n",
        "        'clf__bootstrap': Categorical([True, False])\n",
        "        }\n",
        "]\n",
        "\n",
        "# Lanzamos la búsqueda\n",
        "opt = BayesSearchCV(\n",
        "    estimator=pipe,\n",
        "    search_spaces=search_space,\n",
        "    n_iter=10,  # Lo mantenemos bajo para reducir el tiempo\n",
        "    scoring='accuracy',\n",
        "    cv=5,\n",
        "    random_state=SEED,\n",
        "    verbose=2,\n",
        "    refit=True,\n",
        "    return_train_score=True\n",
        "    )\n",
        "opt.fit(train_data_vec, train_target)"
      ],
      "metadata": {
        "colab": {
          "base_uri": "https://localhost:8080/"
        },
        "id": "_Dh7zSbsYz5q",
        "outputId": "bfe618d8-878f-4d93-82cc-f69bf18bb1cd"
      },
      "execution_count": null,
      "outputs": [
        {
          "output_type": "stream",
          "name": "stdout",
          "text": [
            "Fitting 5 folds for each of 1 candidates, totalling 5 fits\n",
            "[CV] END clf=LogisticRegression(random_state=8888), clf__C=4.7817401307072585, clf__max_iter=644, clf__penalty=l2, clf__solver=liblinear, scl__k=242; total time=   1.8s\n",
            "[CV] END clf=LogisticRegression(random_state=8888), clf__C=4.7817401307072585, clf__max_iter=644, clf__penalty=l2, clf__solver=liblinear, scl__k=242; total time=   1.2s\n",
            "[CV] END clf=LogisticRegression(random_state=8888), clf__C=4.7817401307072585, clf__max_iter=644, clf__penalty=l2, clf__solver=liblinear, scl__k=242; total time=   1.2s\n",
            "[CV] END clf=LogisticRegression(random_state=8888), clf__C=4.7817401307072585, clf__max_iter=644, clf__penalty=l2, clf__solver=liblinear, scl__k=242; total time=   1.2s\n",
            "[CV] END clf=LogisticRegression(random_state=8888), clf__C=4.7817401307072585, clf__max_iter=644, clf__penalty=l2, clf__solver=liblinear, scl__k=242; total time=   1.2s\n",
            "Fitting 5 folds for each of 1 candidates, totalling 5 fits\n",
            "[CV] END clf=LogisticRegression(random_state=8888), clf__C=0.0003646073235844519, clf__max_iter=2236, clf__penalty=l2, clf__solver=saga, scl__k=193; total time=   1.7s\n",
            "[CV] END clf=LogisticRegression(random_state=8888), clf__C=0.0003646073235844519, clf__max_iter=2236, clf__penalty=l2, clf__solver=saga, scl__k=193; total time=   1.7s\n",
            "[CV] END clf=LogisticRegression(random_state=8888), clf__C=0.0003646073235844519, clf__max_iter=2236, clf__penalty=l2, clf__solver=saga, scl__k=193; total time=   1.6s\n",
            "[CV] END clf=LogisticRegression(random_state=8888), clf__C=0.0003646073235844519, clf__max_iter=2236, clf__penalty=l2, clf__solver=saga, scl__k=193; total time=   1.7s\n",
            "[CV] END clf=LogisticRegression(random_state=8888), clf__C=0.0003646073235844519, clf__max_iter=2236, clf__penalty=l2, clf__solver=saga, scl__k=193; total time=   1.7s\n",
            "Fitting 5 folds for each of 1 candidates, totalling 5 fits\n",
            "[CV] END clf=LogisticRegression(random_state=8888), clf__C=2.5563925399965757, clf__max_iter=959, clf__penalty=l2, clf__solver=saga, scl__k=101; total time=   1.5s\n",
            "[CV] END clf=LogisticRegression(random_state=8888), clf__C=2.5563925399965757, clf__max_iter=959, clf__penalty=l2, clf__solver=saga, scl__k=101; total time=   1.4s\n",
            "[CV] END clf=LogisticRegression(random_state=8888), clf__C=2.5563925399965757, clf__max_iter=959, clf__penalty=l2, clf__solver=saga, scl__k=101; total time=   1.4s\n",
            "[CV] END clf=LogisticRegression(random_state=8888), clf__C=2.5563925399965757, clf__max_iter=959, clf__penalty=l2, clf__solver=saga, scl__k=101; total time=   1.4s\n",
            "[CV] END clf=LogisticRegression(random_state=8888), clf__C=2.5563925399965757, clf__max_iter=959, clf__penalty=l2, clf__solver=saga, scl__k=101; total time=   1.4s\n",
            "Fitting 5 folds for each of 1 candidates, totalling 5 fits\n",
            "[CV] END clf=LogisticRegression(random_state=8888), clf__C=0.48267365573399196, clf__max_iter=4469, clf__penalty=l1, clf__solver=liblinear, scl__k=139; total time=   1.2s\n",
            "[CV] END clf=LogisticRegression(random_state=8888), clf__C=0.48267365573399196, clf__max_iter=4469, clf__penalty=l1, clf__solver=liblinear, scl__k=139; total time=   1.2s\n",
            "[CV] END clf=LogisticRegression(random_state=8888), clf__C=0.48267365573399196, clf__max_iter=4469, clf__penalty=l1, clf__solver=liblinear, scl__k=139; total time=   1.2s\n",
            "[CV] END clf=LogisticRegression(random_state=8888), clf__C=0.48267365573399196, clf__max_iter=4469, clf__penalty=l1, clf__solver=liblinear, scl__k=139; total time=   1.2s\n",
            "[CV] END clf=LogisticRegression(random_state=8888), clf__C=0.48267365573399196, clf__max_iter=4469, clf__penalty=l1, clf__solver=liblinear, scl__k=139; total time=   1.2s\n",
            "Fitting 5 folds for each of 1 candidates, totalling 5 fits\n",
            "[CV] END clf=LogisticRegression(random_state=8888), clf__C=0.0036428125717164893, clf__max_iter=1521, clf__penalty=l1, clf__solver=saga, scl__k=135; total time=   1.2s\n",
            "[CV] END clf=LogisticRegression(random_state=8888), clf__C=0.0036428125717164893, clf__max_iter=1521, clf__penalty=l1, clf__solver=saga, scl__k=135; total time=   1.2s\n",
            "[CV] END clf=LogisticRegression(random_state=8888), clf__C=0.0036428125717164893, clf__max_iter=1521, clf__penalty=l1, clf__solver=saga, scl__k=135; total time=   1.2s\n",
            "[CV] END clf=LogisticRegression(random_state=8888), clf__C=0.0036428125717164893, clf__max_iter=1521, clf__penalty=l1, clf__solver=saga, scl__k=135; total time=   1.2s\n",
            "[CV] END clf=LogisticRegression(random_state=8888), clf__C=0.0036428125717164893, clf__max_iter=1521, clf__penalty=l1, clf__solver=saga, scl__k=135; total time=   1.2s\n",
            "Fitting 5 folds for each of 1 candidates, totalling 5 fits\n",
            "[CV] END clf=LogisticRegression(random_state=8888), clf__C=8.02505396193461, clf__max_iter=4309, clf__penalty=l2, clf__solver=liblinear, scl__k=259; total time=   1.2s\n",
            "[CV] END clf=LogisticRegression(random_state=8888), clf__C=8.02505396193461, clf__max_iter=4309, clf__penalty=l2, clf__solver=liblinear, scl__k=259; total time=   1.2s\n",
            "[CV] END clf=LogisticRegression(random_state=8888), clf__C=8.02505396193461, clf__max_iter=4309, clf__penalty=l2, clf__solver=liblinear, scl__k=259; total time=   1.2s\n",
            "[CV] END clf=LogisticRegression(random_state=8888), clf__C=8.02505396193461, clf__max_iter=4309, clf__penalty=l2, clf__solver=liblinear, scl__k=259; total time=   1.2s\n",
            "[CV] END clf=LogisticRegression(random_state=8888), clf__C=8.02505396193461, clf__max_iter=4309, clf__penalty=l2, clf__solver=liblinear, scl__k=259; total time=   1.2s\n",
            "Fitting 5 folds for each of 1 candidates, totalling 5 fits\n",
            "[CV] END clf=LogisticRegression(random_state=8888), clf__C=192.68986840117898, clf__max_iter=3403, clf__penalty=l2, clf__solver=liblinear, scl__k=271; total time=   1.3s\n",
            "[CV] END clf=LogisticRegression(random_state=8888), clf__C=192.68986840117898, clf__max_iter=3403, clf__penalty=l2, clf__solver=liblinear, scl__k=271; total time=   1.3s\n",
            "[CV] END clf=LogisticRegression(random_state=8888), clf__C=192.68986840117898, clf__max_iter=3403, clf__penalty=l2, clf__solver=liblinear, scl__k=271; total time=   1.3s\n",
            "[CV] END clf=LogisticRegression(random_state=8888), clf__C=192.68986840117898, clf__max_iter=3403, clf__penalty=l2, clf__solver=liblinear, scl__k=271; total time=   1.3s\n",
            "[CV] END clf=LogisticRegression(random_state=8888), clf__C=192.68986840117898, clf__max_iter=3403, clf__penalty=l2, clf__solver=liblinear, scl__k=271; total time=   1.3s\n",
            "Fitting 5 folds for each of 1 candidates, totalling 5 fits\n",
            "[CV] END clf=LogisticRegression(random_state=8888), clf__C=0.03813249161702222, clf__max_iter=101, clf__penalty=l1, clf__solver=liblinear, scl__k=127; total time=   1.1s\n",
            "[CV] END clf=LogisticRegression(random_state=8888), clf__C=0.03813249161702222, clf__max_iter=101, clf__penalty=l1, clf__solver=liblinear, scl__k=127; total time=   1.1s\n",
            "[CV] END clf=LogisticRegression(random_state=8888), clf__C=0.03813249161702222, clf__max_iter=101, clf__penalty=l1, clf__solver=liblinear, scl__k=127; total time=   1.1s\n",
            "[CV] END clf=LogisticRegression(random_state=8888), clf__C=0.03813249161702222, clf__max_iter=101, clf__penalty=l1, clf__solver=liblinear, scl__k=127; total time=   1.1s\n",
            "[CV] END clf=LogisticRegression(random_state=8888), clf__C=0.03813249161702222, clf__max_iter=101, clf__penalty=l1, clf__solver=liblinear, scl__k=127; total time=   1.2s\n",
            "Fitting 5 folds for each of 1 candidates, totalling 5 fits\n",
            "[CV] END clf=LogisticRegression(random_state=8888), clf__C=0.021313270090358688, clf__max_iter=4971, clf__penalty=l1, clf__solver=liblinear, scl__k=153; total time=   1.1s\n",
            "[CV] END clf=LogisticRegression(random_state=8888), clf__C=0.021313270090358688, clf__max_iter=4971, clf__penalty=l1, clf__solver=liblinear, scl__k=153; total time=   1.2s\n",
            "[CV] END clf=LogisticRegression(random_state=8888), clf__C=0.021313270090358688, clf__max_iter=4971, clf__penalty=l1, clf__solver=liblinear, scl__k=153; total time=   1.1s\n",
            "[CV] END clf=LogisticRegression(random_state=8888), clf__C=0.021313270090358688, clf__max_iter=4971, clf__penalty=l1, clf__solver=liblinear, scl__k=153; total time=   1.1s\n",
            "[CV] END clf=LogisticRegression(random_state=8888), clf__C=0.021313270090358688, clf__max_iter=4971, clf__penalty=l1, clf__solver=liblinear, scl__k=153; total time=   1.1s\n",
            "Fitting 5 folds for each of 1 candidates, totalling 5 fits\n",
            "[CV] END clf=LogisticRegression(random_state=8888), clf__C=2.3861598608304937, clf__max_iter=4080, clf__penalty=l2, clf__solver=liblinear, scl__k=231; total time=   1.2s\n",
            "[CV] END clf=LogisticRegression(random_state=8888), clf__C=2.3861598608304937, clf__max_iter=4080, clf__penalty=l2, clf__solver=liblinear, scl__k=231; total time=   1.2s\n",
            "[CV] END clf=LogisticRegression(random_state=8888), clf__C=2.3861598608304937, clf__max_iter=4080, clf__penalty=l2, clf__solver=liblinear, scl__k=231; total time=   1.3s\n",
            "[CV] END clf=LogisticRegression(random_state=8888), clf__C=2.3861598608304937, clf__max_iter=4080, clf__penalty=l2, clf__solver=liblinear, scl__k=231; total time=   1.2s\n",
            "[CV] END clf=LogisticRegression(random_state=8888), clf__C=2.3861598608304937, clf__max_iter=4080, clf__penalty=l2, clf__solver=liblinear, scl__k=231; total time=   1.2s\n",
            "Fitting 5 folds for each of 1 candidates, totalling 5 fits\n",
            "[CV] END clf=LGBMClassifier(random_state=8888), clf__colsample_bytree=0.41246448260211066, clf__learning_rate=0.011939863520100211, clf__max_depth=49, clf__min_child_samples=250, clf__min_split_gain=0.9604597326065827, clf__n_estimators=387, clf__num_leaves=136, clf__subsample=0.26142202704941675, scl__k=88; total time=   3.5s\n",
            "[CV] END clf=LGBMClassifier(random_state=8888), clf__colsample_bytree=0.41246448260211066, clf__learning_rate=0.011939863520100211, clf__max_depth=49, clf__min_child_samples=250, clf__min_split_gain=0.9604597326065827, clf__n_estimators=387, clf__num_leaves=136, clf__subsample=0.26142202704941675, scl__k=88; total time=   3.5s\n",
            "[CV] END clf=LGBMClassifier(random_state=8888), clf__colsample_bytree=0.41246448260211066, clf__learning_rate=0.011939863520100211, clf__max_depth=49, clf__min_child_samples=250, clf__min_split_gain=0.9604597326065827, clf__n_estimators=387, clf__num_leaves=136, clf__subsample=0.26142202704941675, scl__k=88; total time=   3.5s\n",
            "[CV] END clf=LGBMClassifier(random_state=8888), clf__colsample_bytree=0.41246448260211066, clf__learning_rate=0.011939863520100211, clf__max_depth=49, clf__min_child_samples=250, clf__min_split_gain=0.9604597326065827, clf__n_estimators=387, clf__num_leaves=136, clf__subsample=0.26142202704941675, scl__k=88; total time=   3.6s\n",
            "[CV] END clf=LGBMClassifier(random_state=8888), clf__colsample_bytree=0.41246448260211066, clf__learning_rate=0.011939863520100211, clf__max_depth=49, clf__min_child_samples=250, clf__min_split_gain=0.9604597326065827, clf__n_estimators=387, clf__num_leaves=136, clf__subsample=0.26142202704941675, scl__k=88; total time=   3.4s\n",
            "Fitting 5 folds for each of 1 candidates, totalling 5 fits\n",
            "[CV] END clf=LGBMClassifier(random_state=8888), clf__colsample_bytree=0.7576243596275842, clf__learning_rate=0.029748166702600817, clf__max_depth=14, clf__min_child_samples=229, clf__min_split_gain=0.7679078633031023, clf__n_estimators=608, clf__num_leaves=395, clf__subsample=0.5073960830367255, scl__k=198; total time=   7.0s\n",
            "[CV] END clf=LGBMClassifier(random_state=8888), clf__colsample_bytree=0.7576243596275842, clf__learning_rate=0.029748166702600817, clf__max_depth=14, clf__min_child_samples=229, clf__min_split_gain=0.7679078633031023, clf__n_estimators=608, clf__num_leaves=395, clf__subsample=0.5073960830367255, scl__k=198; total time=   7.5s\n",
            "[CV] END clf=LGBMClassifier(random_state=8888), clf__colsample_bytree=0.7576243596275842, clf__learning_rate=0.029748166702600817, clf__max_depth=14, clf__min_child_samples=229, clf__min_split_gain=0.7679078633031023, clf__n_estimators=608, clf__num_leaves=395, clf__subsample=0.5073960830367255, scl__k=198; total time=  11.1s\n",
            "[CV] END clf=LGBMClassifier(random_state=8888), clf__colsample_bytree=0.7576243596275842, clf__learning_rate=0.029748166702600817, clf__max_depth=14, clf__min_child_samples=229, clf__min_split_gain=0.7679078633031023, clf__n_estimators=608, clf__num_leaves=395, clf__subsample=0.5073960830367255, scl__k=198; total time=   7.1s\n",
            "[CV] END clf=LGBMClassifier(random_state=8888), clf__colsample_bytree=0.7576243596275842, clf__learning_rate=0.029748166702600817, clf__max_depth=14, clf__min_child_samples=229, clf__min_split_gain=0.7679078633031023, clf__n_estimators=608, clf__num_leaves=395, clf__subsample=0.5073960830367255, scl__k=198; total time=  14.6s\n",
            "Fitting 5 folds for each of 1 candidates, totalling 5 fits\n",
            "[CV] END clf=LGBMClassifier(random_state=8888), clf__colsample_bytree=0.2748136289872606, clf__learning_rate=0.04852810999717949, clf__max_depth=67, clf__min_child_samples=118, clf__min_split_gain=0.7215872880284828, clf__n_estimators=763, clf__num_leaves=298, clf__subsample=0.42352684533864327, scl__k=138; total time=   4.3s\n",
            "[CV] END clf=LGBMClassifier(random_state=8888), clf__colsample_bytree=0.2748136289872606, clf__learning_rate=0.04852810999717949, clf__max_depth=67, clf__min_child_samples=118, clf__min_split_gain=0.7215872880284828, clf__n_estimators=763, clf__num_leaves=298, clf__subsample=0.42352684533864327, scl__k=138; total time=   4.3s\n",
            "[CV] END clf=LGBMClassifier(random_state=8888), clf__colsample_bytree=0.2748136289872606, clf__learning_rate=0.04852810999717949, clf__max_depth=67, clf__min_child_samples=118, clf__min_split_gain=0.7215872880284828, clf__n_estimators=763, clf__num_leaves=298, clf__subsample=0.42352684533864327, scl__k=138; total time=   4.2s\n",
            "[CV] END clf=LGBMClassifier(random_state=8888), clf__colsample_bytree=0.2748136289872606, clf__learning_rate=0.04852810999717949, clf__max_depth=67, clf__min_child_samples=118, clf__min_split_gain=0.7215872880284828, clf__n_estimators=763, clf__num_leaves=298, clf__subsample=0.42352684533864327, scl__k=138; total time=   4.3s\n",
            "[CV] END clf=LGBMClassifier(random_state=8888), clf__colsample_bytree=0.2748136289872606, clf__learning_rate=0.04852810999717949, clf__max_depth=67, clf__min_child_samples=118, clf__min_split_gain=0.7215872880284828, clf__n_estimators=763, clf__num_leaves=298, clf__subsample=0.42352684533864327, scl__k=138; total time=   4.3s\n",
            "Fitting 5 folds for each of 1 candidates, totalling 5 fits\n",
            "[CV] END clf=LGBMClassifier(random_state=8888), clf__colsample_bytree=0.27408048090912773, clf__learning_rate=0.07977427684870847, clf__max_depth=52, clf__min_child_samples=11, clf__min_split_gain=0.46860678417724466, clf__n_estimators=618, clf__num_leaves=258, clf__subsample=0.8621265420243783, scl__k=89; total time=   3.3s\n",
            "[CV] END clf=LGBMClassifier(random_state=8888), clf__colsample_bytree=0.27408048090912773, clf__learning_rate=0.07977427684870847, clf__max_depth=52, clf__min_child_samples=11, clf__min_split_gain=0.46860678417724466, clf__n_estimators=618, clf__num_leaves=258, clf__subsample=0.8621265420243783, scl__k=89; total time=   3.3s\n",
            "[CV] END clf=LGBMClassifier(random_state=8888), clf__colsample_bytree=0.27408048090912773, clf__learning_rate=0.07977427684870847, clf__max_depth=52, clf__min_child_samples=11, clf__min_split_gain=0.46860678417724466, clf__n_estimators=618, clf__num_leaves=258, clf__subsample=0.8621265420243783, scl__k=89; total time=   3.3s\n",
            "[CV] END clf=LGBMClassifier(random_state=8888), clf__colsample_bytree=0.27408048090912773, clf__learning_rate=0.07977427684870847, clf__max_depth=52, clf__min_child_samples=11, clf__min_split_gain=0.46860678417724466, clf__n_estimators=618, clf__num_leaves=258, clf__subsample=0.8621265420243783, scl__k=89; total time=   3.3s\n",
            "[CV] END clf=LGBMClassifier(random_state=8888), clf__colsample_bytree=0.27408048090912773, clf__learning_rate=0.07977427684870847, clf__max_depth=52, clf__min_child_samples=11, clf__min_split_gain=0.46860678417724466, clf__n_estimators=618, clf__num_leaves=258, clf__subsample=0.8621265420243783, scl__k=89; total time=   3.3s\n",
            "Fitting 5 folds for each of 1 candidates, totalling 5 fits\n",
            "[CV] END clf=LGBMClassifier(random_state=8888), clf__colsample_bytree=0.25247124826416617, clf__learning_rate=0.012036966507980073, clf__max_depth=60, clf__min_child_samples=295, clf__min_split_gain=0.4672892293808203, clf__n_estimators=553, clf__num_leaves=139, clf__subsample=0.438895487143642, scl__k=104; total time=   4.1s\n",
            "[CV] END clf=LGBMClassifier(random_state=8888), clf__colsample_bytree=0.25247124826416617, clf__learning_rate=0.012036966507980073, clf__max_depth=60, clf__min_child_samples=295, clf__min_split_gain=0.4672892293808203, clf__n_estimators=553, clf__num_leaves=139, clf__subsample=0.438895487143642, scl__k=104; total time=   4.2s\n",
            "[CV] END clf=LGBMClassifier(random_state=8888), clf__colsample_bytree=0.25247124826416617, clf__learning_rate=0.012036966507980073, clf__max_depth=60, clf__min_child_samples=295, clf__min_split_gain=0.4672892293808203, clf__n_estimators=553, clf__num_leaves=139, clf__subsample=0.438895487143642, scl__k=104; total time=   4.1s\n",
            "[CV] END clf=LGBMClassifier(random_state=8888), clf__colsample_bytree=0.25247124826416617, clf__learning_rate=0.012036966507980073, clf__max_depth=60, clf__min_child_samples=295, clf__min_split_gain=0.4672892293808203, clf__n_estimators=553, clf__num_leaves=139, clf__subsample=0.438895487143642, scl__k=104; total time=   4.2s\n",
            "[CV] END clf=LGBMClassifier(random_state=8888), clf__colsample_bytree=0.25247124826416617, clf__learning_rate=0.012036966507980073, clf__max_depth=60, clf__min_child_samples=295, clf__min_split_gain=0.4672892293808203, clf__n_estimators=553, clf__num_leaves=139, clf__subsample=0.438895487143642, scl__k=104; total time=   4.1s\n",
            "Fitting 5 folds for each of 1 candidates, totalling 5 fits\n",
            "[CV] END clf=LGBMClassifier(random_state=8888), clf__colsample_bytree=0.3529801834854432, clf__learning_rate=0.018705374490061696, clf__max_depth=72, clf__min_child_samples=147, clf__min_split_gain=0.8227030474826483, clf__n_estimators=558, clf__num_leaves=107, clf__subsample=0.672949581813621, scl__k=255; total time=   8.6s\n",
            "[CV] END clf=LGBMClassifier(random_state=8888), clf__colsample_bytree=0.3529801834854432, clf__learning_rate=0.018705374490061696, clf__max_depth=72, clf__min_child_samples=147, clf__min_split_gain=0.8227030474826483, clf__n_estimators=558, clf__num_leaves=107, clf__subsample=0.672949581813621, scl__k=255; total time=   8.7s\n",
            "[CV] END clf=LGBMClassifier(random_state=8888), clf__colsample_bytree=0.3529801834854432, clf__learning_rate=0.018705374490061696, clf__max_depth=72, clf__min_child_samples=147, clf__min_split_gain=0.8227030474826483, clf__n_estimators=558, clf__num_leaves=107, clf__subsample=0.672949581813621, scl__k=255; total time=   8.7s\n",
            "[CV] END clf=LGBMClassifier(random_state=8888), clf__colsample_bytree=0.3529801834854432, clf__learning_rate=0.018705374490061696, clf__max_depth=72, clf__min_child_samples=147, clf__min_split_gain=0.8227030474826483, clf__n_estimators=558, clf__num_leaves=107, clf__subsample=0.672949581813621, scl__k=255; total time=   8.8s\n",
            "[CV] END clf=LGBMClassifier(random_state=8888), clf__colsample_bytree=0.3529801834854432, clf__learning_rate=0.018705374490061696, clf__max_depth=72, clf__min_child_samples=147, clf__min_split_gain=0.8227030474826483, clf__n_estimators=558, clf__num_leaves=107, clf__subsample=0.672949581813621, scl__k=255; total time=   8.8s\n",
            "Fitting 5 folds for each of 1 candidates, totalling 5 fits\n",
            "[CV] END clf=LGBMClassifier(random_state=8888), clf__colsample_bytree=0.7183076945887452, clf__learning_rate=0.03507560205047319, clf__max_depth=43, clf__min_child_samples=197, clf__min_split_gain=0.11755337506794608, clf__n_estimators=586, clf__num_leaves=105, clf__subsample=0.4850660589898746, scl__k=130; total time=   8.7s\n",
            "[CV] END clf=LGBMClassifier(random_state=8888), clf__colsample_bytree=0.7183076945887452, clf__learning_rate=0.03507560205047319, clf__max_depth=43, clf__min_child_samples=197, clf__min_split_gain=0.11755337506794608, clf__n_estimators=586, clf__num_leaves=105, clf__subsample=0.4850660589898746, scl__k=130; total time=   8.9s\n",
            "[CV] END clf=LGBMClassifier(random_state=8888), clf__colsample_bytree=0.7183076945887452, clf__learning_rate=0.03507560205047319, clf__max_depth=43, clf__min_child_samples=197, clf__min_split_gain=0.11755337506794608, clf__n_estimators=586, clf__num_leaves=105, clf__subsample=0.4850660589898746, scl__k=130; total time=   8.6s\n",
            "[CV] END clf=LGBMClassifier(random_state=8888), clf__colsample_bytree=0.7183076945887452, clf__learning_rate=0.03507560205047319, clf__max_depth=43, clf__min_child_samples=197, clf__min_split_gain=0.11755337506794608, clf__n_estimators=586, clf__num_leaves=105, clf__subsample=0.4850660589898746, scl__k=130; total time=   9.0s\n",
            "[CV] END clf=LGBMClassifier(random_state=8888), clf__colsample_bytree=0.7183076945887452, clf__learning_rate=0.03507560205047319, clf__max_depth=43, clf__min_child_samples=197, clf__min_split_gain=0.11755337506794608, clf__n_estimators=586, clf__num_leaves=105, clf__subsample=0.4850660589898746, scl__k=130; total time=   8.7s\n",
            "Fitting 5 folds for each of 1 candidates, totalling 5 fits\n",
            "[CV] END clf=LGBMClassifier(random_state=8888), clf__colsample_bytree=0.35555616710853705, clf__learning_rate=0.010404646697974168, clf__max_depth=29, clf__min_child_samples=227, clf__min_split_gain=0.8680765950475768, clf__n_estimators=843, clf__num_leaves=307, clf__subsample=0.7999061925851166, scl__k=83; total time=   6.1s\n",
            "[CV] END clf=LGBMClassifier(random_state=8888), clf__colsample_bytree=0.35555616710853705, clf__learning_rate=0.010404646697974168, clf__max_depth=29, clf__min_child_samples=227, clf__min_split_gain=0.8680765950475768, clf__n_estimators=843, clf__num_leaves=307, clf__subsample=0.7999061925851166, scl__k=83; total time=   6.2s\n",
            "[CV] END clf=LGBMClassifier(random_state=8888), clf__colsample_bytree=0.35555616710853705, clf__learning_rate=0.010404646697974168, clf__max_depth=29, clf__min_child_samples=227, clf__min_split_gain=0.8680765950475768, clf__n_estimators=843, clf__num_leaves=307, clf__subsample=0.7999061925851166, scl__k=83; total time=   6.0s\n",
            "[CV] END clf=LGBMClassifier(random_state=8888), clf__colsample_bytree=0.35555616710853705, clf__learning_rate=0.010404646697974168, clf__max_depth=29, clf__min_child_samples=227, clf__min_split_gain=0.8680765950475768, clf__n_estimators=843, clf__num_leaves=307, clf__subsample=0.7999061925851166, scl__k=83; total time=   6.2s\n",
            "[CV] END clf=LGBMClassifier(random_state=8888), clf__colsample_bytree=0.35555616710853705, clf__learning_rate=0.010404646697974168, clf__max_depth=29, clf__min_child_samples=227, clf__min_split_gain=0.8680765950475768, clf__n_estimators=843, clf__num_leaves=307, clf__subsample=0.7999061925851166, scl__k=83; total time=   6.1s\n",
            "Fitting 5 folds for each of 1 candidates, totalling 5 fits\n",
            "[CV] END clf=LGBMClassifier(random_state=8888), clf__colsample_bytree=0.8458040086905895, clf__learning_rate=0.08406109233971541, clf__max_depth=68, clf__min_child_samples=134, clf__min_split_gain=0.05653678559411225, clf__n_estimators=515, clf__num_leaves=148, clf__subsample=0.4197812121877631, scl__k=192; total time=   8.6s\n",
            "[CV] END clf=LGBMClassifier(random_state=8888), clf__colsample_bytree=0.8458040086905895, clf__learning_rate=0.08406109233971541, clf__max_depth=68, clf__min_child_samples=134, clf__min_split_gain=0.05653678559411225, clf__n_estimators=515, clf__num_leaves=148, clf__subsample=0.4197812121877631, scl__k=192; total time=   8.3s\n",
            "[CV] END clf=LGBMClassifier(random_state=8888), clf__colsample_bytree=0.8458040086905895, clf__learning_rate=0.08406109233971541, clf__max_depth=68, clf__min_child_samples=134, clf__min_split_gain=0.05653678559411225, clf__n_estimators=515, clf__num_leaves=148, clf__subsample=0.4197812121877631, scl__k=192; total time=   8.3s\n",
            "[CV] END clf=LGBMClassifier(random_state=8888), clf__colsample_bytree=0.8458040086905895, clf__learning_rate=0.08406109233971541, clf__max_depth=68, clf__min_child_samples=134, clf__min_split_gain=0.05653678559411225, clf__n_estimators=515, clf__num_leaves=148, clf__subsample=0.4197812121877631, scl__k=192; total time=   8.4s\n",
            "[CV] END clf=LGBMClassifier(random_state=8888), clf__colsample_bytree=0.8458040086905895, clf__learning_rate=0.08406109233971541, clf__max_depth=68, clf__min_child_samples=134, clf__min_split_gain=0.05653678559411225, clf__n_estimators=515, clf__num_leaves=148, clf__subsample=0.4197812121877631, scl__k=192; total time=   8.2s\n",
            "Fitting 5 folds for each of 1 candidates, totalling 5 fits\n",
            "[CV] END clf=LGBMClassifier(random_state=8888), clf__colsample_bytree=0.1287157222359387, clf__learning_rate=0.00569150328667721, clf__max_depth=55, clf__min_child_samples=209, clf__min_split_gain=0.27586480031374877, clf__n_estimators=525, clf__num_leaves=474, clf__subsample=0.024664374284796467, scl__k=200; total time=   5.7s\n",
            "[CV] END clf=LGBMClassifier(random_state=8888), clf__colsample_bytree=0.1287157222359387, clf__learning_rate=0.00569150328667721, clf__max_depth=55, clf__min_child_samples=209, clf__min_split_gain=0.27586480031374877, clf__n_estimators=525, clf__num_leaves=474, clf__subsample=0.024664374284796467, scl__k=200; total time=   5.6s\n",
            "[CV] END clf=LGBMClassifier(random_state=8888), clf__colsample_bytree=0.1287157222359387, clf__learning_rate=0.00569150328667721, clf__max_depth=55, clf__min_child_samples=209, clf__min_split_gain=0.27586480031374877, clf__n_estimators=525, clf__num_leaves=474, clf__subsample=0.024664374284796467, scl__k=200; total time=   5.5s\n",
            "[CV] END clf=LGBMClassifier(random_state=8888), clf__colsample_bytree=0.1287157222359387, clf__learning_rate=0.00569150328667721, clf__max_depth=55, clf__min_child_samples=209, clf__min_split_gain=0.27586480031374877, clf__n_estimators=525, clf__num_leaves=474, clf__subsample=0.024664374284796467, scl__k=200; total time=   5.5s\n",
            "[CV] END clf=LGBMClassifier(random_state=8888), clf__colsample_bytree=0.1287157222359387, clf__learning_rate=0.00569150328667721, clf__max_depth=55, clf__min_child_samples=209, clf__min_split_gain=0.27586480031374877, clf__n_estimators=525, clf__num_leaves=474, clf__subsample=0.024664374284796467, scl__k=200; total time=   5.6s\n",
            "Fitting 5 folds for each of 1 candidates, totalling 5 fits\n",
            "[CV] END clf=ExtraTreesClassifier(random_state=8888), clf__bootstrap=False, clf__criterion=entropy, clf__max_features=0.1452556825876219, clf__min_samples_leaf=12, clf__min_samples_split=23, clf__n_estimators=230, scl__k=108; total time=   2.6s\n",
            "[CV] END clf=ExtraTreesClassifier(random_state=8888), clf__bootstrap=False, clf__criterion=entropy, clf__max_features=0.1452556825876219, clf__min_samples_leaf=12, clf__min_samples_split=23, clf__n_estimators=230, scl__k=108; total time=   2.6s\n",
            "[CV] END clf=ExtraTreesClassifier(random_state=8888), clf__bootstrap=False, clf__criterion=entropy, clf__max_features=0.1452556825876219, clf__min_samples_leaf=12, clf__min_samples_split=23, clf__n_estimators=230, scl__k=108; total time=   2.6s\n",
            "[CV] END clf=ExtraTreesClassifier(random_state=8888), clf__bootstrap=False, clf__criterion=entropy, clf__max_features=0.1452556825876219, clf__min_samples_leaf=12, clf__min_samples_split=23, clf__n_estimators=230, scl__k=108; total time=   2.7s\n",
            "[CV] END clf=ExtraTreesClassifier(random_state=8888), clf__bootstrap=False, clf__criterion=entropy, clf__max_features=0.1452556825876219, clf__min_samples_leaf=12, clf__min_samples_split=23, clf__n_estimators=230, scl__k=108; total time=   2.6s\n",
            "Fitting 5 folds for each of 1 candidates, totalling 5 fits\n",
            "[CV] END clf=ExtraTreesClassifier(random_state=8888), clf__bootstrap=True, clf__criterion=entropy, clf__max_features=0.12160421529100732, clf__min_samples_leaf=47, clf__min_samples_split=8, clf__n_estimators=568, scl__k=144; total time=   4.0s\n",
            "[CV] END clf=ExtraTreesClassifier(random_state=8888), clf__bootstrap=True, clf__criterion=entropy, clf__max_features=0.12160421529100732, clf__min_samples_leaf=47, clf__min_samples_split=8, clf__n_estimators=568, scl__k=144; total time=   3.8s\n",
            "[CV] END clf=ExtraTreesClassifier(random_state=8888), clf__bootstrap=True, clf__criterion=entropy, clf__max_features=0.12160421529100732, clf__min_samples_leaf=47, clf__min_samples_split=8, clf__n_estimators=568, scl__k=144; total time=   3.6s\n",
            "[CV] END clf=ExtraTreesClassifier(random_state=8888), clf__bootstrap=True, clf__criterion=entropy, clf__max_features=0.12160421529100732, clf__min_samples_leaf=47, clf__min_samples_split=8, clf__n_estimators=568, scl__k=144; total time=   3.7s\n",
            "[CV] END clf=ExtraTreesClassifier(random_state=8888), clf__bootstrap=True, clf__criterion=entropy, clf__max_features=0.12160421529100732, clf__min_samples_leaf=47, clf__min_samples_split=8, clf__n_estimators=568, scl__k=144; total time=   3.6s\n",
            "Fitting 5 folds for each of 1 candidates, totalling 5 fits\n",
            "[CV] END clf=ExtraTreesClassifier(random_state=8888), clf__bootstrap=False, clf__criterion=entropy, clf__max_features=0.7550881402404755, clf__min_samples_leaf=37, clf__min_samples_split=25, clf__n_estimators=938, scl__k=77; total time=  12.8s\n",
            "[CV] END clf=ExtraTreesClassifier(random_state=8888), clf__bootstrap=False, clf__criterion=entropy, clf__max_features=0.7550881402404755, clf__min_samples_leaf=37, clf__min_samples_split=25, clf__n_estimators=938, scl__k=77; total time=  12.8s\n",
            "[CV] END clf=ExtraTreesClassifier(random_state=8888), clf__bootstrap=False, clf__criterion=entropy, clf__max_features=0.7550881402404755, clf__min_samples_leaf=37, clf__min_samples_split=25, clf__n_estimators=938, scl__k=77; total time=  12.7s\n",
            "[CV] END clf=ExtraTreesClassifier(random_state=8888), clf__bootstrap=False, clf__criterion=entropy, clf__max_features=0.7550881402404755, clf__min_samples_leaf=37, clf__min_samples_split=25, clf__n_estimators=938, scl__k=77; total time=  12.8s\n",
            "[CV] END clf=ExtraTreesClassifier(random_state=8888), clf__bootstrap=False, clf__criterion=entropy, clf__max_features=0.7550881402404755, clf__min_samples_leaf=37, clf__min_samples_split=25, clf__n_estimators=938, scl__k=77; total time=  12.8s\n",
            "Fitting 5 folds for each of 1 candidates, totalling 5 fits\n",
            "[CV] END clf=ExtraTreesClassifier(random_state=8888), clf__bootstrap=False, clf__criterion=entropy, clf__max_features=0.9968199770653025, clf__min_samples_leaf=37, clf__min_samples_split=46, clf__n_estimators=830, scl__k=133; total time=  20.8s\n",
            "[CV] END clf=ExtraTreesClassifier(random_state=8888), clf__bootstrap=False, clf__criterion=entropy, clf__max_features=0.9968199770653025, clf__min_samples_leaf=37, clf__min_samples_split=46, clf__n_estimators=830, scl__k=133; total time=  20.8s\n",
            "[CV] END clf=ExtraTreesClassifier(random_state=8888), clf__bootstrap=False, clf__criterion=entropy, clf__max_features=0.9968199770653025, clf__min_samples_leaf=37, clf__min_samples_split=46, clf__n_estimators=830, scl__k=133; total time=  20.8s\n",
            "[CV] END clf=ExtraTreesClassifier(random_state=8888), clf__bootstrap=False, clf__criterion=entropy, clf__max_features=0.9968199770653025, clf__min_samples_leaf=37, clf__min_samples_split=46, clf__n_estimators=830, scl__k=133; total time=  20.8s\n",
            "[CV] END clf=ExtraTreesClassifier(random_state=8888), clf__bootstrap=False, clf__criterion=entropy, clf__max_features=0.9968199770653025, clf__min_samples_leaf=37, clf__min_samples_split=46, clf__n_estimators=830, scl__k=133; total time=  21.0s\n",
            "Fitting 5 folds for each of 1 candidates, totalling 5 fits\n",
            "[CV] END clf=ExtraTreesClassifier(random_state=8888), clf__bootstrap=False, clf__criterion=entropy, clf__max_features=0.531553164353036, clf__min_samples_leaf=50, clf__min_samples_split=17, clf__n_estimators=622, scl__k=70; total time=   6.3s\n",
            "[CV] END clf=ExtraTreesClassifier(random_state=8888), clf__bootstrap=False, clf__criterion=entropy, clf__max_features=0.531553164353036, clf__min_samples_leaf=50, clf__min_samples_split=17, clf__n_estimators=622, scl__k=70; total time=   6.3s\n",
            "[CV] END clf=ExtraTreesClassifier(random_state=8888), clf__bootstrap=False, clf__criterion=entropy, clf__max_features=0.531553164353036, clf__min_samples_leaf=50, clf__min_samples_split=17, clf__n_estimators=622, scl__k=70; total time=   6.3s\n",
            "[CV] END clf=ExtraTreesClassifier(random_state=8888), clf__bootstrap=False, clf__criterion=entropy, clf__max_features=0.531553164353036, clf__min_samples_leaf=50, clf__min_samples_split=17, clf__n_estimators=622, scl__k=70; total time=   6.3s\n",
            "[CV] END clf=ExtraTreesClassifier(random_state=8888), clf__bootstrap=False, clf__criterion=entropy, clf__max_features=0.531553164353036, clf__min_samples_leaf=50, clf__min_samples_split=17, clf__n_estimators=622, scl__k=70; total time=   6.3s\n",
            "Fitting 5 folds for each of 1 candidates, totalling 5 fits\n",
            "[CV] END clf=ExtraTreesClassifier(random_state=8888), clf__bootstrap=False, clf__criterion=gini, clf__max_features=0.07442533042666905, clf__min_samples_leaf=11, clf__min_samples_split=24, clf__n_estimators=599, scl__k=279; total time=   6.7s\n",
            "[CV] END clf=ExtraTreesClassifier(random_state=8888), clf__bootstrap=False, clf__criterion=gini, clf__max_features=0.07442533042666905, clf__min_samples_leaf=11, clf__min_samples_split=24, clf__n_estimators=599, scl__k=279; total time=   6.7s\n",
            "[CV] END clf=ExtraTreesClassifier(random_state=8888), clf__bootstrap=False, clf__criterion=gini, clf__max_features=0.07442533042666905, clf__min_samples_leaf=11, clf__min_samples_split=24, clf__n_estimators=599, scl__k=279; total time=   6.6s\n",
            "[CV] END clf=ExtraTreesClassifier(random_state=8888), clf__bootstrap=False, clf__criterion=gini, clf__max_features=0.07442533042666905, clf__min_samples_leaf=11, clf__min_samples_split=24, clf__n_estimators=599, scl__k=279; total time=   6.5s\n",
            "[CV] END clf=ExtraTreesClassifier(random_state=8888), clf__bootstrap=False, clf__criterion=gini, clf__max_features=0.07442533042666905, clf__min_samples_leaf=11, clf__min_samples_split=24, clf__n_estimators=599, scl__k=279; total time=   6.8s\n",
            "Fitting 5 folds for each of 1 candidates, totalling 5 fits\n",
            "[CV] END clf=ExtraTreesClassifier(random_state=8888), clf__bootstrap=False, clf__criterion=entropy, clf__max_features=0.13206526059338633, clf__min_samples_leaf=9, clf__min_samples_split=40, clf__n_estimators=746, scl__k=110; total time=   6.0s\n",
            "[CV] END clf=ExtraTreesClassifier(random_state=8888), clf__bootstrap=False, clf__criterion=entropy, clf__max_features=0.13206526059338633, clf__min_samples_leaf=9, clf__min_samples_split=40, clf__n_estimators=746, scl__k=110; total time=   6.1s\n",
            "[CV] END clf=ExtraTreesClassifier(random_state=8888), clf__bootstrap=False, clf__criterion=entropy, clf__max_features=0.13206526059338633, clf__min_samples_leaf=9, clf__min_samples_split=40, clf__n_estimators=746, scl__k=110; total time=   6.1s\n",
            "[CV] END clf=ExtraTreesClassifier(random_state=8888), clf__bootstrap=False, clf__criterion=entropy, clf__max_features=0.13206526059338633, clf__min_samples_leaf=9, clf__min_samples_split=40, clf__n_estimators=746, scl__k=110; total time=   6.2s\n",
            "[CV] END clf=ExtraTreesClassifier(random_state=8888), clf__bootstrap=False, clf__criterion=entropy, clf__max_features=0.13206526059338633, clf__min_samples_leaf=9, clf__min_samples_split=40, clf__n_estimators=746, scl__k=110; total time=   6.3s\n",
            "Fitting 5 folds for each of 1 candidates, totalling 5 fits\n",
            "[CV] END clf=ExtraTreesClassifier(random_state=8888), clf__bootstrap=False, clf__criterion=gini, clf__max_features=0.20592259008694863, clf__min_samples_leaf=25, clf__min_samples_split=10, clf__n_estimators=86, scl__k=215; total time=   2.1s\n",
            "[CV] END clf=ExtraTreesClassifier(random_state=8888), clf__bootstrap=False, clf__criterion=gini, clf__max_features=0.20592259008694863, clf__min_samples_leaf=25, clf__min_samples_split=10, clf__n_estimators=86, scl__k=215; total time=   2.2s\n",
            "[CV] END clf=ExtraTreesClassifier(random_state=8888), clf__bootstrap=False, clf__criterion=gini, clf__max_features=0.20592259008694863, clf__min_samples_leaf=25, clf__min_samples_split=10, clf__n_estimators=86, scl__k=215; total time=   2.1s\n",
            "[CV] END clf=ExtraTreesClassifier(random_state=8888), clf__bootstrap=False, clf__criterion=gini, clf__max_features=0.20592259008694863, clf__min_samples_leaf=25, clf__min_samples_split=10, clf__n_estimators=86, scl__k=215; total time=   2.2s\n",
            "[CV] END clf=ExtraTreesClassifier(random_state=8888), clf__bootstrap=False, clf__criterion=gini, clf__max_features=0.20592259008694863, clf__min_samples_leaf=25, clf__min_samples_split=10, clf__n_estimators=86, scl__k=215; total time=   2.2s\n",
            "Fitting 5 folds for each of 1 candidates, totalling 5 fits\n",
            "[CV] END clf=ExtraTreesClassifier(random_state=8888), clf__bootstrap=False, clf__criterion=entropy, clf__max_features=0.5672972347159725, clf__min_samples_leaf=1, clf__min_samples_split=49, clf__n_estimators=963, scl__k=177; total time=  29.5s\n",
            "[CV] END clf=ExtraTreesClassifier(random_state=8888), clf__bootstrap=False, clf__criterion=entropy, clf__max_features=0.5672972347159725, clf__min_samples_leaf=1, clf__min_samples_split=49, clf__n_estimators=963, scl__k=177; total time=  29.9s\n",
            "[CV] END clf=ExtraTreesClassifier(random_state=8888), clf__bootstrap=False, clf__criterion=entropy, clf__max_features=0.5672972347159725, clf__min_samples_leaf=1, clf__min_samples_split=49, clf__n_estimators=963, scl__k=177; total time=  29.8s\n",
            "[CV] END clf=ExtraTreesClassifier(random_state=8888), clf__bootstrap=False, clf__criterion=entropy, clf__max_features=0.5672972347159725, clf__min_samples_leaf=1, clf__min_samples_split=49, clf__n_estimators=963, scl__k=177; total time=  30.1s\n",
            "[CV] END clf=ExtraTreesClassifier(random_state=8888), clf__bootstrap=False, clf__criterion=entropy, clf__max_features=0.5672972347159725, clf__min_samples_leaf=1, clf__min_samples_split=49, clf__n_estimators=963, scl__k=177; total time=  30.3s\n",
            "Fitting 5 folds for each of 1 candidates, totalling 5 fits\n",
            "[CV] END clf=ExtraTreesClassifier(random_state=8888), clf__bootstrap=False, clf__criterion=gini, clf__max_features=0.07803458228237473, clf__min_samples_leaf=26, clf__min_samples_split=27, clf__n_estimators=882, scl__k=238; total time=   7.2s\n",
            "[CV] END clf=ExtraTreesClassifier(random_state=8888), clf__bootstrap=False, clf__criterion=gini, clf__max_features=0.07803458228237473, clf__min_samples_leaf=26, clf__min_samples_split=27, clf__n_estimators=882, scl__k=238; total time=   7.1s\n",
            "[CV] END clf=ExtraTreesClassifier(random_state=8888), clf__bootstrap=False, clf__criterion=gini, clf__max_features=0.07803458228237473, clf__min_samples_leaf=26, clf__min_samples_split=27, clf__n_estimators=882, scl__k=238; total time=   7.0s\n",
            "[CV] END clf=ExtraTreesClassifier(random_state=8888), clf__bootstrap=False, clf__criterion=gini, clf__max_features=0.07803458228237473, clf__min_samples_leaf=26, clf__min_samples_split=27, clf__n_estimators=882, scl__k=238; total time=   6.9s\n",
            "[CV] END clf=ExtraTreesClassifier(random_state=8888), clf__bootstrap=False, clf__criterion=gini, clf__max_features=0.07803458228237473, clf__min_samples_leaf=26, clf__min_samples_split=27, clf__n_estimators=882, scl__k=238; total time=   7.1s\n"
          ]
        },
        {
          "output_type": "execute_result",
          "data": {
            "text/plain": [
              "BayesSearchCV(cv=5,\n",
              "              estimator=Pipeline(steps=[('scl',\n",
              "                                         SelectKBest(score_func=<function chi2 at 0x7f0fb89a27a0>)),\n",
              "                                        ('clf',\n",
              "                                         LGBMClassifier(random_state=8888))]),\n",
              "              n_iter=10, random_state=8888, return_train_score=True,\n",
              "              scoring='accuracy',\n",
              "              search_spaces=[{'clf': [LogisticRegression(random_state=8888)],\n",
              "                              'clf__C': Real(low=0.0001, high=512.0, prior='log-uniform', transform...\n",
              "                              'clf__max_features': Real(low=0.05, high=1.0, prior='uniform', transform='normalize'),\n",
              "                              'clf__min_samples_leaf': Integer(low=1, high=50, prior='uniform', transform='normalize'),\n",
              "                              'clf__min_samples_split': Integer(low=2, high=50, prior='uniform', transform='normalize'),\n",
              "                              'clf__n_estimators': Integer(low=50, high=1000, prior='uniform', transform='normalize'),\n",
              "                              'scl__k': Integer(low=50, high=300, prior='uniform', transform='normalize')}],\n",
              "              verbose=2)"
            ]
          },
          "metadata": {},
          "execution_count": 14
        }
      ]
    },
    {
      "cell_type": "code",
      "source": [
        "# Guardamos los resultados y mostramos el top 10\n",
        "cv_result = pd.DataFrame(opt.cv_results_)\n",
        "cv_result[[\n",
        "    'mean_fit_time',\n",
        "    'param_clf',\n",
        "    'mean_train_score',\n",
        "    'std_train_score',\n",
        "    'rank_train_score',\n",
        "    'mean_test_score',\n",
        "    'std_test_score',\n",
        "    'rank_test_score'\n",
        "]].sort_values('rank_test_score').head(10)"
      ],
      "metadata": {
        "colab": {
          "base_uri": "https://localhost:8080/",
          "height": 363
        },
        "id": "MPp9yxRim3uP",
        "outputId": "fb677a54-bef8-49b0-ae16-436cb1e0de5a"
      },
      "execution_count": null,
      "outputs": [
        {
          "output_type": "execute_result",
          "data": {
            "text/html": [
              "\n",
              "  <div id=\"df-74152004-6874-4c65-a979-8c9ccdf3ce0e\">\n",
              "    <div class=\"colab-df-container\">\n",
              "      <div>\n",
              "<style scoped>\n",
              "    .dataframe tbody tr th:only-of-type {\n",
              "        vertical-align: middle;\n",
              "    }\n",
              "\n",
              "    .dataframe tbody tr th {\n",
              "        vertical-align: top;\n",
              "    }\n",
              "\n",
              "    .dataframe thead th {\n",
              "        text-align: right;\n",
              "    }\n",
              "</style>\n",
              "<table border=\"1\" class=\"dataframe\">\n",
              "  <thead>\n",
              "    <tr style=\"text-align: right;\">\n",
              "      <th></th>\n",
              "      <th>mean_fit_time</th>\n",
              "      <th>param_clf</th>\n",
              "      <th>mean_train_score</th>\n",
              "      <th>std_train_score</th>\n",
              "      <th>rank_train_score</th>\n",
              "      <th>mean_test_score</th>\n",
              "      <th>std_test_score</th>\n",
              "      <th>rank_test_score</th>\n",
              "    </tr>\n",
              "  </thead>\n",
              "  <tbody>\n",
              "    <tr>\n",
              "      <th>15</th>\n",
              "      <td>8.493593</td>\n",
              "      <td>LGBMClassifier(colsample_bytree=0.352980183485...</td>\n",
              "      <td>0.978623</td>\n",
              "      <td>0.001196</td>\n",
              "      <td>5</td>\n",
              "      <td>0.953204</td>\n",
              "      <td>0.003270</td>\n",
              "      <td>1</td>\n",
              "    </tr>\n",
              "    <tr>\n",
              "      <th>6</th>\n",
              "      <td>1.150885</td>\n",
              "      <td>LogisticRegression(random_state=8888)</td>\n",
              "      <td>0.967740</td>\n",
              "      <td>0.001379</td>\n",
              "      <td>8</td>\n",
              "      <td>0.950936</td>\n",
              "      <td>0.002550</td>\n",
              "      <td>2</td>\n",
              "    </tr>\n",
              "    <tr>\n",
              "      <th>5</th>\n",
              "      <td>1.081170</td>\n",
              "      <td>LogisticRegression(random_state=8888)</td>\n",
              "      <td>0.958593</td>\n",
              "      <td>0.001557</td>\n",
              "      <td>9</td>\n",
              "      <td>0.950936</td>\n",
              "      <td>0.003026</td>\n",
              "      <td>3</td>\n",
              "    </tr>\n",
              "    <tr>\n",
              "      <th>18</th>\n",
              "      <td>8.161335</td>\n",
              "      <td>LGBMClassifier(colsample_bytree=0.352980183485...</td>\n",
              "      <td>0.999397</td>\n",
              "      <td>0.000181</td>\n",
              "      <td>1</td>\n",
              "      <td>0.950653</td>\n",
              "      <td>0.003543</td>\n",
              "      <td>4</td>\n",
              "    </tr>\n",
              "    <tr>\n",
              "      <th>0</th>\n",
              "      <td>1.203473</td>\n",
              "      <td>LogisticRegression(random_state=8888)</td>\n",
              "      <td>0.956147</td>\n",
              "      <td>0.000629</td>\n",
              "      <td>12</td>\n",
              "      <td>0.950085</td>\n",
              "      <td>0.002866</td>\n",
              "      <td>5</td>\n",
              "    </tr>\n",
              "    <tr>\n",
              "      <th>9</th>\n",
              "      <td>1.076575</td>\n",
              "      <td>LogisticRegression(random_state=8888)</td>\n",
              "      <td>0.953878</td>\n",
              "      <td>0.001670</td>\n",
              "      <td>13</td>\n",
              "      <td>0.949801</td>\n",
              "      <td>0.004200</td>\n",
              "      <td>6</td>\n",
              "    </tr>\n",
              "    <tr>\n",
              "      <th>25</th>\n",
              "      <td>6.291331</td>\n",
              "      <td>ExtraTreesClassifier(random_state=8888)</td>\n",
              "      <td>0.958062</td>\n",
              "      <td>0.001329</td>\n",
              "      <td>10</td>\n",
              "      <td>0.947532</td>\n",
              "      <td>0.004139</td>\n",
              "      <td>7</td>\n",
              "    </tr>\n",
              "    <tr>\n",
              "      <th>12</th>\n",
              "      <td>4.093020</td>\n",
              "      <td>LGBMClassifier(colsample_bytree=0.352980183485...</td>\n",
              "      <td>0.975220</td>\n",
              "      <td>0.001498</td>\n",
              "      <td>6</td>\n",
              "      <td>0.946823</td>\n",
              "      <td>0.004044</td>\n",
              "      <td>8</td>\n",
              "    </tr>\n",
              "    <tr>\n",
              "      <th>11</th>\n",
              "      <td>9.243900</td>\n",
              "      <td>LGBMClassifier(colsample_bytree=0.352980183485...</td>\n",
              "      <td>0.974972</td>\n",
              "      <td>0.001178</td>\n",
              "      <td>7</td>\n",
              "      <td>0.946540</td>\n",
              "      <td>0.003849</td>\n",
              "      <td>9</td>\n",
              "    </tr>\n",
              "    <tr>\n",
              "      <th>13</th>\n",
              "      <td>3.127559</td>\n",
              "      <td>LGBMClassifier(colsample_bytree=0.352980183485...</td>\n",
              "      <td>0.989719</td>\n",
              "      <td>0.000931</td>\n",
              "      <td>3</td>\n",
              "      <td>0.946255</td>\n",
              "      <td>0.004619</td>\n",
              "      <td>10</td>\n",
              "    </tr>\n",
              "  </tbody>\n",
              "</table>\n",
              "</div>\n",
              "      <button class=\"colab-df-convert\" onclick=\"convertToInteractive('df-74152004-6874-4c65-a979-8c9ccdf3ce0e')\"\n",
              "              title=\"Convert this dataframe to an interactive table.\"\n",
              "              style=\"display:none;\">\n",
              "        \n",
              "  <svg xmlns=\"http://www.w3.org/2000/svg\" height=\"24px\"viewBox=\"0 0 24 24\"\n",
              "       width=\"24px\">\n",
              "    <path d=\"M0 0h24v24H0V0z\" fill=\"none\"/>\n",
              "    <path d=\"M18.56 5.44l.94 2.06.94-2.06 2.06-.94-2.06-.94-.94-2.06-.94 2.06-2.06.94zm-11 1L8.5 8.5l.94-2.06 2.06-.94-2.06-.94L8.5 2.5l-.94 2.06-2.06.94zm10 10l.94 2.06.94-2.06 2.06-.94-2.06-.94-.94-2.06-.94 2.06-2.06.94z\"/><path d=\"M17.41 7.96l-1.37-1.37c-.4-.4-.92-.59-1.43-.59-.52 0-1.04.2-1.43.59L10.3 9.45l-7.72 7.72c-.78.78-.78 2.05 0 2.83L4 21.41c.39.39.9.59 1.41.59.51 0 1.02-.2 1.41-.59l7.78-7.78 2.81-2.81c.8-.78.8-2.07 0-2.86zM5.41 20L4 18.59l7.72-7.72 1.47 1.35L5.41 20z\"/>\n",
              "  </svg>\n",
              "      </button>\n",
              "      \n",
              "  <style>\n",
              "    .colab-df-container {\n",
              "      display:flex;\n",
              "      flex-wrap:wrap;\n",
              "      gap: 12px;\n",
              "    }\n",
              "\n",
              "    .colab-df-convert {\n",
              "      background-color: #E8F0FE;\n",
              "      border: none;\n",
              "      border-radius: 50%;\n",
              "      cursor: pointer;\n",
              "      display: none;\n",
              "      fill: #1967D2;\n",
              "      height: 32px;\n",
              "      padding: 0 0 0 0;\n",
              "      width: 32px;\n",
              "    }\n",
              "\n",
              "    .colab-df-convert:hover {\n",
              "      background-color: #E2EBFA;\n",
              "      box-shadow: 0px 1px 2px rgba(60, 64, 67, 0.3), 0px 1px 3px 1px rgba(60, 64, 67, 0.15);\n",
              "      fill: #174EA6;\n",
              "    }\n",
              "\n",
              "    [theme=dark] .colab-df-convert {\n",
              "      background-color: #3B4455;\n",
              "      fill: #D2E3FC;\n",
              "    }\n",
              "\n",
              "    [theme=dark] .colab-df-convert:hover {\n",
              "      background-color: #434B5C;\n",
              "      box-shadow: 0px 1px 3px 1px rgba(0, 0, 0, 0.15);\n",
              "      filter: drop-shadow(0px 1px 2px rgba(0, 0, 0, 0.3));\n",
              "      fill: #FFFFFF;\n",
              "    }\n",
              "  </style>\n",
              "\n",
              "      <script>\n",
              "        const buttonEl =\n",
              "          document.querySelector('#df-74152004-6874-4c65-a979-8c9ccdf3ce0e button.colab-df-convert');\n",
              "        buttonEl.style.display =\n",
              "          google.colab.kernel.accessAllowed ? 'block' : 'none';\n",
              "\n",
              "        async function convertToInteractive(key) {\n",
              "          const element = document.querySelector('#df-74152004-6874-4c65-a979-8c9ccdf3ce0e');\n",
              "          const dataTable =\n",
              "            await google.colab.kernel.invokeFunction('convertToInteractive',\n",
              "                                                     [key], {});\n",
              "          if (!dataTable) return;\n",
              "\n",
              "          const docLinkHtml = 'Like what you see? Visit the ' +\n",
              "            '<a target=\"_blank\" href=https://colab.research.google.com/notebooks/data_table.ipynb>data table notebook</a>'\n",
              "            + ' to learn more about interactive tables.';\n",
              "          element.innerHTML = '';\n",
              "          dataTable['output_type'] = 'display_data';\n",
              "          await google.colab.output.renderOutput(dataTable, element);\n",
              "          const docLink = document.createElement('div');\n",
              "          docLink.innerHTML = docLinkHtml;\n",
              "          element.appendChild(docLink);\n",
              "        }\n",
              "      </script>\n",
              "    </div>\n",
              "  </div>\n",
              "  "
            ],
            "text/plain": [
              "    mean_fit_time  ... rank_test_score\n",
              "15       8.493593  ...               1\n",
              "6        1.150885  ...               2\n",
              "5        1.081170  ...               3\n",
              "18       8.161335  ...               4\n",
              "0        1.203473  ...               5\n",
              "9        1.076575  ...               6\n",
              "25       6.291331  ...               7\n",
              "12       4.093020  ...               8\n",
              "11       9.243900  ...               9\n",
              "13       3.127559  ...              10\n",
              "\n",
              "[10 rows x 8 columns]"
            ]
          },
          "metadata": {},
          "execution_count": 16
        }
      ]
    },
    {
      "cell_type": "code",
      "source": [
        "print('Accuracy en Validación: {}'.format(opt.best_score_))\n",
        "print('Accuracy en Test: {}'.format(opt.score(test_data_vec, test_target)))\n",
        "print('El mejor estimador: {}'.format(opt.best_params_))"
      ],
      "metadata": {
        "colab": {
          "base_uri": "https://localhost:8080/"
        },
        "id": "U6ghOfVMp-IK",
        "outputId": "f374de57-15e7-48fc-a8e5-7c81c0232ad2"
      },
      "execution_count": null,
      "outputs": [
        {
          "output_type": "stream",
          "name": "stdout",
          "text": [
            "Accuracy en Validación: 0.9532044573789525\n",
            "Accuracy en Test: 0.9557572319909245\n",
            "El mejor estimador: OrderedDict([('clf', LGBMClassifier(colsample_bytree=0.3529801834854432,\n",
            "               learning_rate=0.018705374490061696, max_depth=72,\n",
            "               min_child_samples=147, min_split_gain=0.8227030474826483,\n",
            "               n_estimators=558, num_leaves=107, random_state=8888,\n",
            "               subsample=0.672949581813621)), ('clf__colsample_bytree', 0.3529801834854432), ('clf__learning_rate', 0.018705374490061696), ('clf__max_depth', 72), ('clf__min_child_samples', 147), ('clf__min_split_gain', 0.8227030474826483), ('clf__n_estimators', 558), ('clf__num_leaves', 107), ('clf__subsample', 0.672949581813621), ('scl__k', 255)])\n"
          ]
        }
      ]
    },
    {
      "cell_type": "code",
      "source": [
        "# Guardamos el mejor modelo\n",
        "model = opt.best_estimator_\n",
        "\n",
        "# Guardamos la importancia de variables según default del algoritmo\n",
        "fi = pd.Series(model.named_steps['clf'].feature_importances_, index=model.named_steps['scl'].get_feature_names_out())\n",
        "fi = fi / fi.sum()  # Normalizamos\n",
        "fi.sort_values(ascending=False, inplace=True)"
      ],
      "metadata": {
        "id": "Eo2T8Fgml_rS"
      },
      "execution_count": null,
      "outputs": []
    },
    {
      "cell_type": "code",
      "source": [
        "# Reporte de clasificación\n",
        "visualizer = ClassificationReport(model, classes=classes, support=True)\n",
        "visualizer.score(test_data_vec, test_target)\n",
        "visualizer.show()"
      ],
      "metadata": {
        "colab": {
          "base_uri": "https://localhost:8080/",
          "height": 777
        },
        "id": "dY0HCgwBogXn",
        "outputId": "e74bdcd2-b636-4d60-9b0c-8cbb7c1f7d31"
      },
      "execution_count": null,
      "outputs": [
        {
          "output_type": "stream",
          "name": "stderr",
          "text": [
            "/usr/local/lib/python3.7/dist-packages/yellowbrick/classifier/base.py:234: YellowbrickWarning: could not determine class_counts_ from previously fitted classifier\n",
            "  YellowbrickWarning,\n"
          ]
        },
        {
          "output_type": "display_data",
          "data": {
            "image/png": "[encoded data removed]",
            "text/plain": [
              "<Figure size 1152x720 with 2 Axes>"
            ]
          },
          "metadata": {}
        },
        {
          "output_type": "execute_result",
          "data": {
            "text/plain": [
              "<matplotlib.axes._subplots.AxesSubplot at 0x7f0fabac5710>"
            ]
          },
          "metadata": {},
          "execution_count": 19
        }
      ]
    },
    {
      "cell_type": "code",
      "source": [
        "# Matriz de confusión\n",
        "visualizer = ConfusionMatrix(\n",
        "    model,\n",
        "    classes=classes,\n",
        ")\n",
        "visualizer.score(test_data_vec, test_target)\n",
        "visualizer.show()"
      ],
      "metadata": {
        "colab": {
          "base_uri": "https://localhost:8080/",
          "height": 777
        },
        "id": "ppGlJDGXt83n",
        "outputId": "e58f33e4-667a-4b94-af1b-ad0611a11cca"
      },
      "execution_count": null,
      "outputs": [
        {
          "output_type": "stream",
          "name": "stderr",
          "text": [
            "/usr/local/lib/python3.7/dist-packages/yellowbrick/classifier/base.py:234: YellowbrickWarning: could not determine class_counts_ from previously fitted classifier\n",
            "  YellowbrickWarning,\n"
          ]
        },
        {
          "output_type": "display_data",
          "data": {
            "image/png": "[encoded data removed]",
            "text/plain": [
              "<Figure size 1152x720 with 1 Axes>"
            ]
          },
          "metadata": {}
        },
        {
          "output_type": "execute_result",
          "data": {
            "text/plain": [
              "<matplotlib.axes._subplots.AxesSubplot at 0x7f0fabedec50>"
            ]
          },
          "metadata": {},
          "execution_count": 20
        }
      ]
    },
    {
      "cell_type": "code",
      "source": [
        "# Importancia de variables\n",
        "sns.barplot(x=fi.head(15), y=fi.head(15).index, orient='h')\n",
        "plt.title('Importancia de variables')\n",
        "plt.xlabel('Importancia')\n",
        "plt.ylabel('Variables')"
      ],
      "metadata": {
        "colab": {
          "base_uri": "https://localhost:8080/",
          "height": 647
        },
        "id": "wBL5OOsFrbHI",
        "outputId": "0059892d-0621-4520-9321-c9a0b90817f2"
      },
      "execution_count": null,
      "outputs": [
        {
          "output_type": "execute_result",
          "data": {
            "text/plain": [
              "Text(0, 0.5, 'Variables')"
            ]
          },
          "metadata": {},
          "execution_count": 21
        },
        {
          "output_type": "display_data",
          "data": {
            "image/png": "[encoded data removed]",
            "text/plain": [
              "<Figure size 1152x720 with 1 Axes>"
            ]
          },
          "metadata": {}
        }
      ]
    },
    {
      "cell_type": "code",
      "source": [
        "# Una forma medio extraña de ver la importancia por clase, sirve, aunque no necesariamente es una forma correcta.\n",
        "train_data_fi = train_data_vec.copy()\n",
        "train_data_fi['target'] = le.inverse_transform(train_target)\n",
        "columns = list(fi.head(10).index)\n",
        "tidy = train_data_fi[columns+['target']].melt(id_vars='target')\n",
        "sns.barplot(x='target', y='value', hue='variable', data=tidy)"
      ],
      "metadata": {
        "colab": {
          "base_uri": "https://localhost:8080/",
          "height": 632
        },
        "id": "Bv8ctomO6MrP",
        "outputId": "58432d76-4b9e-4451-cd0f-804997b27782"
      },
      "execution_count": null,
      "outputs": [
        {
          "output_type": "execute_result",
          "data": {
            "text/plain": [
              "<matplotlib.axes._subplots.AxesSubplot at 0x7f0fac80ed10>"
            ]
          },
          "metadata": {},
          "execution_count": 22
        },
        {
          "output_type": "display_data",
          "data": {
            "image/png": "[encoded data removed]",
            "text/plain": [
              "<Figure size 1152x720 with 1 Axes>"
            ]
          },
          "metadata": {}
        }
      ]
    },
    {
      "cell_type": "markdown",
      "source": [
        "## Conclusiones"
      ],
      "metadata": {
        "id": "ntmd-tcCDZ4F"
      }
    },
    {
      "cell_type": "markdown",
      "source": [
        "Como era de esperarse, el clasificador tiene más facilidad para discriminar la clase \"Turismo\" de las otras. Tanto la clase \"Política\" como \"Economía\" presentan una mayor dificultad por incluir características que pueden ser de ambas. A modo de ejemplo, si bien como surge de la importancia de variables la raíz de la palabra asociada a cada categoría es el principal predictor, en el caso de \"Política\" y \"Economía\" estas palabras se encuentran asociadas a ambas categorías, es decir, \"Política\" aparece en notas de \"Economía\" y viceversa. Lo mismo sucede con otras palabras o nombres propios."
      ],
      "metadata": {
        "id": "xUwE0nUDDb1U"
      }
    }
  ]
}